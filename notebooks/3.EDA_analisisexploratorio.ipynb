{
 "cells": [
  {
   "cell_type": "code",
   "execution_count": 0,
   "metadata": {
    "application/vnd.databricks.v1+cell": {
     "cellMetadata": {
      "byteLimit": 2048000,
      "rowLimit": 10000
     },
     "inputWidgets": {},
     "nuid": "92c6b5b9-cfc0-43a8-9523-8245413a9cf8",
     "showTitle": false,
     "title": ""
    }
   },
   "outputs": [],
   "source": [
    "#Librerias que se usaran\n",
    "import pandas as pd  # Libreria para administrar tablas, y realizar trabajos con distintas formas de tablas o dataframes\n",
    "import numpy as np   # Libreria para poder hacer operaciones matematicas y matriciales\n",
    "import matplotlib.pyplot as plt # Libreria para realizar graficos \n",
    "import pandas as pd\n",
    "import seaborn as sns\n",
    "import matplotlib.pyplot as plt\n",
    "import matplotlib.backends.backend_pdf   #Manejar archivos pdf\n",
    "#Configuramos pandas para que podamos vizualizar todas las columnas y filas la estadistica descriptiva de todas las variables\n",
    "pd.set_option('display.max_columns', None)\n",
    "pd.set_option('display.expand_frame_repr', False)\n",
    "pd.set_option('display.max_colwidth', None)\n",
    "pd.set_option('display.max_rows', None)\n",
    "pd.set_option('display.width', None)\n",
    "#Configuramos pandas para que lanze valores con una precision de hasta 6 decimales\n",
    "pd.set_option('display.float_format', '{:.6f}'.format)"
   ]
  },
  {
   "cell_type": "markdown",
   "metadata": {
    "application/vnd.databricks.v1+cell": {
     "cellMetadata": {},
     "inputWidgets": {},
     "nuid": "4369c3bd-61c8-4b3a-b439-2ca233c5bbf8",
     "showTitle": false,
     "title": ""
    }
   },
   "source": [
    "### Variables definidas de C4M y H4M:\n",
    "- **x** : Coordenada espacial horizontal que representa la posición del equipo en el eje X.\n",
    "- **y** : Coordenada espacial horizontal que representa la posición del equipo en el eje Y.\n",
    "- **z** : Coordenada espacial vertical que representa la altitud o profundidad del equipo en el eje Z.\n",
    "\n",
    "- **bearing_t:** Rumbo o la dirección en la que se está moviendo el vehículo en un momento dado, medido en grados desde el norte.\n",
    "\n",
    "- **speed_t:** Velocidad del vehículo en un momento dado, generalmente medida en unidades de velocidad como kilómetros por hora (km/h) o metros por segundo (m/s).  \n",
    "\n",
    "- **gear_t:** Representa la marcha o el engranaje en el que se encuentra el vehículo en un momento dado.  \n",
    "\n",
    "- **pitch_t, roll_t:** Estas variables representan el ángulo de inclinación y el ángulo de balanceo del vehículo en un momento dado, respectivamente.\n",
    "\n",
    "- **n_sat:** Número de satélites GPS visibles en un momento dado. Es importante para determinar la precisión de las mediciones de posición GPS.  \n",
    "\n",
    "- **tempeje1_t, tempeje2_t, tempeje3_t, tempeje4_t:** Representan las temperaturas en diferentes ejes del vehículo.  \n",
    "\n",
    "- **tonelaje_t:** Representa el tonelaje o la carga que lleva el vehículo en un momento dado.  \n",
    "\n",
    "- **latitude_t, longitud_t:** Representan las coordenadas de latitud y longitud del vehículo en un momento dado.  \n",
    " \n",
    "- **direccion_t:** Indica la dirección en la que se está moviendo el vehículo en un momento dado.\n",
    "\n",
    "- **precisiongps_t:** Indica la precisión de las mediciones de posición GPS en un momento dado.  \n",
    "\n",
    "- **combustibleint_t:** Representa la cantidad de combustible interna disponible en el vehículo en un momento dado.  \n",
    "\n",
    "- **segment_angle_t:** Representa el ángulo de inclinación del vehículo con respecto a un plano de referencia.\n",
    "\n",
    "- **fuel_rate_t:** Indica la tasa de consumo de combustible del vehículo en un momento dado.  \n",
    "\n",
    "- **ENG_SPD:** velocidad del motor\n",
    "\n",
    "- **BOOST_PRES** la presión del turbo\n",
    "\n",
    "- **ENG_OIL_PRES**  la presión del aceite del motor\n",
    "\n",
    "- **GROUND_SPD:**  la velocidad terrestre\n",
    "\n",
    "- **AMB_AIR_TEMP:**   la temperatura del aire ambiente\n",
    "\n",
    "- **AIR_FLTR:**  la temperatura del líquido de enfriamiento del motor\n",
    "\n",
    "- **ENG_COOL_TEMP:**  la temperatura del escape \n",
    "\n",
    "- **RT_LT_EXH_TEMP:**  la temperatura del aire filtrado.  \n",
    "\n",
    "- **LCKUP_SLIP:** Representa el deslizamiento del embrague o el bloqueo en el vehículo.  \n",
    "\n",
    "- **TRN_LUBE_TEMP:** Indica la temperatura del lubricante de la transmisión en un momento dado.  \n",
    "\n",
    "- **DIFF_LUBE_PRES:** Representa la presión del lubricante del diferencial del vehículo en un momento dado.  \n",
    "\n",
    "- **DIFF_TEMP:** Indica la temperatura del diferencial del vehículo en un momento dado.  \n",
    "\n",
    "- **TRN_OUT_SPD:** la velocidad de salida de la transmisión \n",
    "\n",
    "- **TC_OUT_TEMP:** la temperatura de salida del convertidor de par.  \n",
    "\n",
    "- **LT_R_WHEEL_SPD, RT_R_WHEEL_SPD:** Representan la velocidad de las ruedas izquierda y derecha del vehículo en un momento dado.  \n",
    "\n",
    "- **BRK/AIR_PRES:** Indican la presión del sistema de frenos del vehículo.  \n",
    "\n",
    "- **RT_F_BRK_TEMP, LT_F_BRK_TEMP, RT_R_BRK_TEMP, LT_R_BRK_TEMP:** Representan la temperatura de los frenos del vehículo en diferentes ubicaciones, como las ruedas delanteras (derecha e izquierda), ruedas traseras (derecha e izquierda).  \n",
    "\n",
    "- **PAYLOAD:** Indica la carga transportada por el vehículo en un momento dado.  \n",
    "\n",
    "- **Z_Coor, Lat_Coor, Lon_Coor:** Representan las coordenadas de altura, latitud y longitud del vehículo en un momento dado.  \n",
    "\n",
    "- **Tire_Press_N4, Tire_Press_N5, Tire_Press_N6:** Indican la presión de los neumáticos de diferentes posiciones del vehículo.  \n"
   ]
  },
  {
   "cell_type": "code",
   "execution_count": 0,
   "metadata": {
    "application/vnd.databricks.v1+cell": {
     "cellMetadata": {
      "byteLimit": 2048000,
      "rowLimit": 10000
     },
     "inputWidgets": {},
     "nuid": "5544b8bc-11e6-4b33-9b70-97783251f037",
     "showTitle": false,
     "title": ""
    }
   },
   "outputs": [],
   "source": [
    "import pandas as pd\n",
    "#1. Leemos los datos de PROCEESED la tabla Delta \n",
    "df_delta = spark.read.format(\"delta\").load(\"/mnt/datalakemlopsd4m/processed/proyectocongestion_processed/datapreprocessed_congestion_tabladelta\")\n",
    "datos = df_delta.toPandas()\n",
    "datos.head()"
   ]
  },
  {
   "cell_type": "code",
   "execution_count": 0,
   "metadata": {
    "application/vnd.databricks.v1+cell": {
     "cellMetadata": {
      "byteLimit": 2048000,
      "rowLimit": 10000
     },
     "inputWidgets": {},
     "nuid": "627b3b58-836e-45c3-9976-2f956683f66c",
     "showTitle": false,
     "title": ""
    }
   },
   "outputs": [],
   "source": [
    "datos.shape"
   ]
  },
  {
   "cell_type": "markdown",
   "metadata": {
    "application/vnd.databricks.v1+cell": {
     "cellMetadata": {},
     "inputWidgets": {},
     "nuid": "153ede2a-3d7e-4709-878f-7b863fd558a9",
     "showTitle": false,
     "title": ""
    }
   },
   "source": [
    "Opcional: Guardar los datos Preprocesados en un csv en el Azure Storage (para trabajar en local Visual Studio Code)"
   ]
  },
  {
   "cell_type": "code",
   "execution_count": 0,
   "metadata": {
    "application/vnd.databricks.v1+cell": {
     "cellMetadata": {
      "byteLimit": 2048000,
      "rowLimit": 10000
     },
     "inputWidgets": {},
     "nuid": "810e6d9b-9c60-4a37-94d4-55823fc247fa",
     "showTitle": false,
     "title": ""
    }
   },
   "outputs": [],
   "source": [
    "# from azure.storage.blob import BlobServiceClient, BlobClient, ContainerClient\n",
    "# from io import BytesIO \n",
    "\n",
    "# # 1.Guardamos el df convertido en csv en la variable csv_data\n",
    "# csv_data = datos.to_csv(index=False)\n",
    "\n",
    "# # # 1.2 Obtener conection Azure DataLake\n",
    "# # connection_string = 'DefaultEndpointsProtocol=https;AccountName=datalakemlopsd4m;AccountKey=iWT8t74/#XlqcqoR03keDVtFZPzr0PB9zDffMPaLWMUBIAjUww8uYAVkc9xRkcBtvTmUHKBvd1sB3+ASt6mGgcQ==;EndpointSuffix=core.windows.net'\n",
    "\n",
    "# # 1.3 Conectar al Blob Storage de Azure\n",
    "# blob_service_client = BlobServiceClient.from_connection_string(connection_string)\n",
    "\n",
    "# # 1.4 Identificamos el nombre del contenedor(container_name) y nombre del archivo(definir blob_name) en el Blob Storage\n",
    "# container_name = \"processed/proyectocongestion_processed/\"\n",
    "\n",
    "# ####### !IMPORTANTE!\n",
    "# blob_name = \"tabladeltashougan.csv\"\n",
    "\n",
    "# # 1.5 Guardamos el archivo CSV al Blob Storage\n",
    "# blob_client = blob_service_client.get_blob_client(container=container_name, blob=blob_name)\n",
    "\n",
    "# # Verificar si existe el archivo\n",
    "# if blob_client.exists():\n",
    "#     # Eliminar el archivo existente\n",
    "#     blob_client.delete_blob()\n",
    "\n",
    "# # Cargar el nuevo archivo CSV al Blob Storage\n",
    "# blob_client.upload_blob(csv_data)"
   ]
  },
  {
   "cell_type": "markdown",
   "metadata": {
    "application/vnd.databricks.v1+cell": {
     "cellMetadata": {},
     "inputWidgets": {},
     "nuid": "7879e346-88d4-4fad-9060-4aff5d924fc6",
     "showTitle": false,
     "title": ""
    }
   },
   "source": [
    "### Insigths"
   ]
  },
  {
   "cell_type": "markdown",
   "metadata": {
    "application/vnd.databricks.v1+cell": {
     "cellMetadata": {},
     "inputWidgets": {},
     "nuid": "f996e3d5-c138-46cd-97b9-ac189bee9428",
     "showTitle": false,
     "title": ""
    }
   },
   "source": [
    "#### Equipos de camión únicos y sus nombres"
   ]
  },
  {
   "cell_type": "code",
   "execution_count": 0,
   "metadata": {
    "application/vnd.databricks.v1+cell": {
     "cellMetadata": {
      "byteLimit": 2048000,
      "rowLimit": 10000
     },
     "inputWidgets": {},
     "nuid": "7d6aad58-8601-44ba-9ff6-318171c44835",
     "showTitle": false,
     "title": ""
    }
   },
   "outputs": [],
   "source": [
    "# Obtener equipos de camión únicos y sus nombres únicos\n",
    "equipos_camiones = datos.loc[datos[\"id_equipo\"].notnull(), [\"id_equipo\", \"nombre_equipo\"]] \\\n",
    "    .drop_duplicates(subset=\"id_equipo\")\n",
    "print(equipos_camiones)"
   ]
  },
  {
   "cell_type": "markdown",
   "metadata": {
    "application/vnd.databricks.v1+cell": {
     "cellMetadata": {},
     "inputWidgets": {},
     "nuid": "5ccc4630-fbfa-478d-b24e-c5d3c475cb9f",
     "showTitle": false,
     "title": ""
    }
   },
   "source": [
    "#### Cual es la velocidad en promedio que realiza cada equipo?"
   ]
  },
  {
   "cell_type": "code",
   "execution_count": 0,
   "metadata": {
    "application/vnd.databricks.v1+cell": {
     "cellMetadata": {
      "byteLimit": 2048000,
      "rowLimit": 10000
     },
     "inputWidgets": {},
     "nuid": "91306bb4-0372-43d1-86a8-e6b1cbccd54b",
     "showTitle": false,
     "title": ""
    }
   },
   "outputs": [],
   "source": [
    "velocidad_promedio_por_equipo = datos.groupby('id_equipo')['speed_t'].mean()\n",
    "# Crear el gráfico de barras\n",
    "plt.figure(figsize=(10, 6))\n",
    "velocidad_promedio_por_equipo.plot(kind='bar', color='skyblue')\n",
    "plt.title('Velocidad Promedio por Equipo')\n",
    "plt.xlabel('ID del Equipo')\n",
    "plt.ylabel('Velocidad Promedio')\n",
    "plt.xticks(rotation=45)\n",
    "plt.grid(axis='y', linestyle='--', alpha=0.7)\n",
    "plt.tight_layout()\n",
    "plt.show()"
   ]
  },
  {
   "cell_type": "markdown",
   "metadata": {
    "application/vnd.databricks.v1+cell": {
     "cellMetadata": {
      "byteLimit": 2048000,
      "rowLimit": 10000
     },
     "inputWidgets": {},
     "nuid": "972a7509-bef8-4a14-b77d-c719d23017aa",
     "showTitle": false,
     "title": ""
    }
   },
   "source": [
    "#### Cual es la velocidad en promedio que realiza cada trabajador?"
   ]
  },
  {
   "cell_type": "code",
   "execution_count": 0,
   "metadata": {
    "application/vnd.databricks.v1+cell": {
     "cellMetadata": {
      "byteLimit": 2048000,
      "rowLimit": 10000
     },
     "inputWidgets": {},
     "nuid": "0df67750-6066-4a31-8653-5b9c92ecabac",
     "showTitle": false,
     "title": ""
    }
   },
   "outputs": [],
   "source": [
    "velocidad_promedio_por_trabajador = datos.groupby('id_trabaj_t')['speed_t'].mean() #.sort_values(ascending=False)\n",
    "\n",
    "# Crear el gráfico de barras\n",
    "plt.figure(figsize=(10, 6))\n",
    "velocidad_promedio_por_trabajador.plot(kind='bar', color='green')\n",
    "plt.title('Velocidad Promedio por Trabajador')\n",
    "plt.xlabel('ID del Trabajador')\n",
    "plt.ylabel('Velocidad Promedio')\n",
    "plt.xticks(rotation=45)\n",
    "plt.grid(axis='y', linestyle='--', alpha=0.7)\n",
    "plt.tight_layout()\n",
    "plt.show()"
   ]
  },
  {
   "cell_type": "code",
   "execution_count": 0,
   "metadata": {
    "application/vnd.databricks.v1+cell": {
     "cellMetadata": {
      "byteLimit": 2048000,
      "rowLimit": 10000
     },
     "inputWidgets": {},
     "nuid": "d0eb233e-fdf4-4ad3-9a7f-047ab31cfbb7",
     "showTitle": false,
     "title": ""
    }
   },
   "outputs": [],
   "source": [
    "datos.groupby(['id_equipo', 'id_trabaj_t'])['speed_t'].mean()"
   ]
  },
  {
   "cell_type": "markdown",
   "metadata": {
    "application/vnd.databricks.v1+cell": {
     "cellMetadata": {},
     "inputWidgets": {},
     "nuid": "8df7e242-1050-41f6-8cad-64b12d3cfa01",
     "showTitle": false,
     "title": ""
    }
   },
   "source": [
    "#### Cual es el promedio de velocidad de los equipos, en cada hora del dia?"
   ]
  },
  {
   "cell_type": "code",
   "execution_count": 0,
   "metadata": {
    "application/vnd.databricks.v1+cell": {
     "cellMetadata": {
      "byteLimit": 2048000,
      "rowLimit": 10000
     },
     "inputWidgets": {},
     "nuid": "6a5d8489-6b5f-467c-bf7d-dcdd8c2b216e",
     "showTitle": false,
     "title": ""
    }
   },
   "outputs": [],
   "source": [
    "import matplotlib.pyplot as plt\n",
    "\n",
    "# Agrupar por id_equipo y hora, calcular el promedio de velocidad\n",
    "promedios_velocidad = datos.groupby(['id_equipo', 'hora'])['speed_t'].mean().reset_index()\n",
    "\n",
    "# Crear el gráfico de líneas\n",
    "plt.figure(figsize=(10, 6))\n",
    "for id_equipo, group in promedios_velocidad.groupby('id_equipo'):\n",
    "    plt.plot(group['hora'], group['speed_t'], label=f'Equipo {id_equipo}')\n",
    "\n",
    "# Añadir etiquetas y título\n",
    "plt.xlabel('Hora')\n",
    "plt.ylabel('Promedio de Velocidad')\n",
    "plt.title('Promedio de Velocidad por Hora y Equipo')\n",
    "plt.legend()\n",
    "plt.grid(True)\n",
    "\n",
    "# Mostrar el gráfico\n",
    "plt.xticks(rotation=45)  # Rotar las etiquetas del eje x para una mejor legibilidad\n",
    "plt.gca().xaxis.set_major_locator(plt.MultipleLocator(3))  # Mostrar cada 3 horas en el eje x\n",
    "plt.show()"
   ]
  },
  {
   "cell_type": "markdown",
   "metadata": {
    "application/vnd.databricks.v1+cell": {
     "cellMetadata": {
      "byteLimit": 2048000,
      "rowLimit": 10000
     },
     "inputWidgets": {},
     "nuid": "b1d3c1ea-0044-45bb-93fd-deecc17165d4",
     "showTitle": false,
     "title": ""
    }
   },
   "source": [
    "#### Cual es el promedio de velocidad que tiene cada trabajador, en cada hora del dia?"
   ]
  },
  {
   "cell_type": "code",
   "execution_count": 0,
   "metadata": {
    "application/vnd.databricks.v1+cell": {
     "cellMetadata": {
      "byteLimit": 2048000,
      "rowLimit": 10000
     },
     "inputWidgets": {},
     "nuid": "0733d58e-2239-4e25-bab3-0acdf50feeb6",
     "showTitle": false,
     "title": ""
    }
   },
   "outputs": [],
   "source": [
    "import matplotlib.pyplot as plt\n",
    "\n",
    "# Agrupar por id_equipo y hora, calcular el promedio de velocidad\n",
    "promedios_velocidad = datos.groupby(['id_trabaj_t', 'hora'])['speed_t'].mean().reset_index()\n",
    "\n",
    "# Crear el gráfico de líneas\n",
    "plt.figure(figsize=(10, 6))\n",
    "for id_trabajador, group in promedios_velocidad.groupby('id_trabaj_t'):\n",
    "    plt.plot(group['hora'], group['speed_t'], label=f'Trabajador {id_trabajador}')\n",
    "\n",
    "# Añadir etiquetas y título\n",
    "plt.xlabel('Hora')\n",
    "plt.ylabel('Promedio de Velocidad')\n",
    "plt.title('Promedio de Velocidad por Hora y Trabajador')\n",
    "plt.legend()\n",
    "plt.grid(True)\n",
    "\n",
    "# Mostrar el gráfico\n",
    "plt.xticks(rotation=45)  # Rotar las etiquetas del eje x para una mejor legibilidad\n",
    "plt.gca().xaxis.set_major_locator(plt.MultipleLocator(3))  # Mostrar cada 3 horas en el eje x\n",
    "plt.show()"
   ]
  },
  {
   "cell_type": "markdown",
   "metadata": {
    "application/vnd.databricks.v1+cell": {
     "cellMetadata": {},
     "inputWidgets": {},
     "nuid": "58481803-9022-4a91-b560-71248288041e",
     "showTitle": false,
     "title": ""
    }
   },
   "source": [
    "#### ¿Cuál es la distribución de las variables numéricas?"
   ]
  },
  {
   "cell_type": "code",
   "execution_count": 0,
   "metadata": {
    "application/vnd.databricks.v1+cell": {
     "cellMetadata": {
      "byteLimit": 2048000,
      "rowLimit": 10000
     },
     "inputWidgets": {},
     "nuid": "4f5c9cad-ce6e-49c2-a49d-194e999f2035",
     "showTitle": false,
     "title": ""
    }
   },
   "outputs": [],
   "source": [
    "distribucion_numerica = datos.describe()\n",
    "\n",
    "# Transponer el DataFrame distribucion_numerica\n",
    "distribucion_numerica_transpuesta = distribucion_numerica.T\n",
    "\n",
    "# Imprimir resultados\n",
    "print(\"Distribución de variables numéricas:\")\n",
    "distribucion_numerica_transpuesta"
   ]
  },
  {
   "cell_type": "markdown",
   "metadata": {
    "application/vnd.databricks.v1+cell": {
     "cellMetadata": {},
     "inputWidgets": {},
     "nuid": "4e0ef3b9-3f04-4770-b698-bd273387498f",
     "showTitle": false,
     "title": ""
    }
   },
   "source": [
    "#### ¿Cuál es la distribución de las variables categoricas?"
   ]
  },
  {
   "cell_type": "code",
   "execution_count": 0,
   "metadata": {
    "application/vnd.databricks.v1+cell": {
     "cellMetadata": {
      "byteLimit": 2048000,
      "rowLimit": 10000
     },
     "inputWidgets": {},
     "nuid": "24ef4328-e24e-47d9-bd33-7a6a58968e90",
     "showTitle": false,
     "title": ""
    }
   },
   "outputs": [],
   "source": [
    "distribucion_categorica = datos.describe(include=['object','bool'])\n",
    "\n",
    "# Transponer el DataFrame distribucion_numerica\n",
    "distribucion_categorica_transpuesta = distribucion_categorica.T\n",
    "\n",
    "# Imprimir resultados\n",
    "print(\"Distribución de variables categoricas:\")\n",
    "distribucion_categorica_transpuesta"
   ]
  },
  {
   "cell_type": "markdown",
   "metadata": {
    "application/vnd.databricks.v1+cell": {
     "cellMetadata": {},
     "inputWidgets": {},
     "nuid": "7c4344a5-e1cc-48e1-9570-d23ef9367d97",
     "showTitle": false,
     "title": ""
    }
   },
   "source": [
    "### Historicamente cual es el promedio velocidad en cada tramo?"
   ]
  },
  {
   "cell_type": "code",
   "execution_count": 0,
   "metadata": {
    "application/vnd.databricks.v1+cell": {
     "cellMetadata": {
      "byteLimit": 2048000,
      "rowLimit": 10000
     },
     "inputWidgets": {},
     "nuid": "e2485ba3-1166-48b0-acf2-3e2669e8971e",
     "showTitle": false,
     "title": ""
    }
   },
   "outputs": [],
   "source": [
    "import plotly.express as px\n",
    "\n",
    "# Agrupa los datos por el nombre del tramo y calcula el promedio de velocidad\n",
    "promedio_por_tramo = datos.groupby('nombre_tramo')['speed_t'].mean().reset_index()\n",
    "\n",
    "# Ordena los resultados si es necesario (opcional)\n",
    "promedio_por_tramo = promedio_por_tramo.sort_values(by='speed_t', ascending=False)\n",
    "\n",
    "# Crea el gráfico interactivo con Plotly\n",
    "fig = px.bar(promedio_por_tramo, x='nombre_tramo', y='speed_t', color='speed_t',\n",
    "             labels={'speed_t': 'Velocidad Promedio', 'nombre_tramo': 'Nombre del Tramo'},\n",
    "             title='Velocidad Promedio en cada Tramo')\n",
    "\n",
    "# Personaliza el diseño del gráfico\n",
    "fig.update_layout(xaxis_tickangle=-45, xaxis=dict(categoryorder='total descending'))\n",
    "\n",
    "# Muestra el gráfico interactivo\n",
    "fig.show()\n"
   ]
  },
  {
   "cell_type": "markdown",
   "metadata": {
    "application/vnd.databricks.v1+cell": {
     "cellMetadata": {},
     "inputWidgets": {},
     "nuid": "7605e3b4-da28-4a38-a680-b119a2338627",
     "showTitle": false,
     "title": ""
    }
   },
   "source": [
    "#### Analisis Estadistica Descriptiva de los datos"
   ]
  },
  {
   "cell_type": "markdown",
   "metadata": {
    "application/vnd.databricks.v1+cell": {
     "cellMetadata": {},
     "inputWidgets": {},
     "nuid": "11a7e114-bedd-4013-be8b-6b741d2d0237",
     "showTitle": false,
     "title": ""
    }
   },
   "source": [
    "#### Histogramas "
   ]
  },
  {
   "cell_type": "code",
   "execution_count": 0,
   "metadata": {
    "application/vnd.databricks.v1+cell": {
     "cellMetadata": {
      "byteLimit": 2048000,
      "rowLimit": 10000
     },
     "inputWidgets": {},
     "nuid": "2c071599-e0ad-4dd0-b9f4-ddebde7b5ee8",
     "showTitle": false,
     "title": ""
    }
   },
   "outputs": [],
   "source": [
    "import matplotlib.backends.backend_pdf\n",
    "\n",
    "# Crear un objeto PDF para guardar los histogramas\n",
    "pdf = matplotlib.backends.backend_pdf.PdfPages(\"histogramas.pdf\")\n",
    "\n",
    "\n",
    "# Identificar las columnas numéricas y categóricas\n",
    "columnas_numericas = datos.select_dtypes(include=['int', 'float']).columns\n",
    "\n",
    "# Excluir las columnas que comienzan con 'id'\n",
    "columnas_a_excluir = [col for col in datos.columns if col.startswith('id')]\n",
    "\n",
    "# Filtrar las columnas numéricas que no están en columnas_a_excluir\n",
    "columnas_a_incluir = [col for col in columnas_numericas if col not in columnas_a_excluir]\n",
    "\n",
    "\n",
    "# Configurar el estilo de Seaborn\n",
    "sns.set(style=\"whitegrid\")\n",
    "\n",
    "# Crear histogramas solo para las columnas numéricas seleccionadas\n",
    "for columna in columnas_a_incluir:\n",
    "    plt.figure(figsize=(8, 6))\n",
    "    sns.histplot(datos[columna], bins=20, kde=True)\n",
    "\n",
    "    # Calcula la media, mediana y moda\n",
    "    media = datos[columna].mean()\n",
    "    mediana = datos[columna].median()\n",
    "    moda = datos[columna].mode().iloc[0]  # Obtén el primer valor modal\n",
    "\n",
    "    # Agrega líneas verticales y etiquetas\n",
    "    plt.axvline(media, color='r', linestyle='--', label=f'Media: {float(media):.2f}')\n",
    "    plt.axvline(mediana, color='g', linestyle='--', label=f'Mediana: {mediana:.2f}')\n",
    "    plt.axvline(moda, color='b', linestyle='--', label=f'Moda: {float(moda):.2f}')\n",
    "\n",
    "    plt.title(f'Histograma de {columna}')\n",
    "    plt.xlabel(columna)\n",
    "    plt.ylabel(\"Frecuencia\")\n",
    "    plt.legend()\n",
    "    plt.tight_layout()\n",
    "\n",
    "    # Agregar el histograma al archivo PDF\n",
    "    pdf.savefig()\n",
    "    plt.close()\n",
    "\n",
    "# Cerrar el archivo PDF después de guardar todos los histogramas\n",
    "pdf.close()"
   ]
  },
  {
   "cell_type": "markdown",
   "metadata": {
    "application/vnd.databricks.v1+cell": {
     "cellMetadata": {},
     "inputWidgets": {},
     "nuid": "d279549a-619d-4a76-b56e-c715748300ee",
     "showTitle": false,
     "title": ""
    }
   },
   "source": [
    "##### Diagramas de Cajas\n",
    "- Mayor dispersión: Proporciona más información sobre la variabilidad de los datos y puede ayudar al modelo a capturar una gama más amplia de posibles relaciones entre las variables. Sin embargo, demasiada dispersión también puede dificultar la identificación de patrones claros y conducir a un sobreajuste del modelo.\n",
    "- Menor dispersión: Puede hacer que los datos sean más fáciles de modelar y puede ayudar a simplificar el proceso de aprendizaje para el modelo. Sin embargo, si la dispersión es muy baja, el modelo puede tener dificultades para capturar la complejidad de los datos y puede llevar a un subajuste.\n",
    "\n",
    "- Desviacion estandas: si tienes un conjunto de datos con una media de 50 y una desviación estándar de 20, esto sugiere que la mayoría de los valores se encuentran entre aproximadamente 30 y 70"
   ]
  },
  {
   "cell_type": "code",
   "execution_count": 0,
   "metadata": {
    "application/vnd.databricks.v1+cell": {
     "cellMetadata": {
      "byteLimit": 2048000,
      "rowLimit": 10000
     },
     "inputWidgets": {},
     "nuid": "ce74474d-e66d-40c2-acb6-18d87915e4ee",
     "showTitle": false,
     "title": ""
    }
   },
   "outputs": [],
   "source": [
    "import matplotlib.backends.backend_pdf\n",
    "\n",
    "# Crear un objeto PDF para guardar los diagramas de caja\n",
    "pdf = matplotlib.backends.backend_pdf.PdfPages(\"diagramas_de_caja.pdf\")\n",
    "\n",
    "# Identificar las columnas numéricas y categóricas\n",
    "columnas_numericas = datos.select_dtypes(include=['int', 'float']).columns\n",
    "\n",
    "# Excluir las columnas que comienzan con 'id'\n",
    "columnas_a_excluir = [col for col in datos.columns if col.startswith('id')]\n",
    "\n",
    "# Filtrar las columnas numéricas que no están en columnas_a_excluir\n",
    "columnas_a_incluir = [col for col in columnas_numericas if col not in columnas_a_excluir]\n",
    "\n",
    "# Configurar el estilo de Seaborn\n",
    "sns.set(style=\"whitegrid\")\n",
    "\n",
    "# Crear diagramas de caja con bigotes como líneas y una leyenda\n",
    "for columna in columnas_a_incluir:\n",
    "    plt.figure(figsize=(10, 6))\n",
    "    \n",
    "    # Configurar el estilo de la caja y los bigotes\n",
    "    boxprops = {'facecolor': 'lightblue', 'linewidth': 2}\n",
    "    whiskerprops = {'linewidth': 2}\n",
    "    \n",
    "    sns.boxplot(data=datos, y=columna, boxprops=boxprops, whiskerprops=whiskerprops, width=0.3)\n",
    "    \n",
    "    plt.title(f'Diagrama de Caja de {columna}')\n",
    "    plt.xlabel(columna)\n",
    "    plt.ylabel(\"Valores\")\n",
    "    \n",
    "    # Calcular estadísticas\n",
    "    mediana = datos[columna].median()\n",
    "    Q1 = datos[columna].quantile(0.25)\n",
    "    Limite_inferior = datos[columna].quantile(0.25) - 1.5 * (datos[columna].quantile(0.75) - datos[columna].quantile(0.25))\n",
    "    Q3 = datos[columna].quantile(0.75)\n",
    "    Limite_superior = datos[columna].quantile(0.75) + 1.5 * (datos[columna].quantile(0.75) - datos[columna].quantile(0.25))\n",
    "    IQR = Q3 - Q1\n",
    "    \n",
    "    # Crear la leyenda\n",
    "    leyenda = f'Límite Inferior: {Limite_inferior:.2f}\\nQ1: {Q1:.2f}\\nMediana: {mediana:.2f}\\nQ3: {Q3:.2f}\\nLímite Superior: {Limite_superior:.2f}\\nIQR: {IQR:.2f}'\n",
    "    \n",
    "    # Colocar la leyenda fuera del gráfico, en el lado derecho superior\n",
    "    plt.legend([leyenda], loc='upper right', bbox_to_anchor=(1, 1))\n",
    "    \n",
    "    # Añadir el gráfico al archivo PDF\n",
    "    pdf.savefig()\n",
    "    plt.close()\n",
    "\n",
    "# Cerrar el archivo PDF después de guardar todos los diagramas de caja\n",
    "pdf.close()"
   ]
  },
  {
   "cell_type": "markdown",
   "metadata": {
    "application/vnd.databricks.v1+cell": {
     "cellMetadata": {},
     "inputWidgets": {},
     "nuid": "4048cfed-266a-4c7f-97bd-87ce6db226e2",
     "showTitle": false,
     "title": ""
    }
   },
   "source": [
    "### Analisis de  Correlacion"
   ]
  },
  {
   "cell_type": "markdown",
   "metadata": {
    "application/vnd.databricks.v1+cell": {
     "cellMetadata": {},
     "inputWidgets": {},
     "nuid": "bbbbdf0d-8bf9-438f-98fb-0e7aeb4fab51",
     "showTitle": false,
     "title": ""
    }
   },
   "source": [
    "#### Metodo de Dendograma"
   ]
  },
  {
   "cell_type": "code",
   "execution_count": 0,
   "metadata": {
    "application/vnd.databricks.v1+cell": {
     "cellMetadata": {
      "byteLimit": 2048000,
      "rowLimit": 10000
     },
     "inputWidgets": {},
     "nuid": "6fe738da-92e9-4f24-a9ba-ed49ae5f9ea9",
     "showTitle": false,
     "title": ""
    }
   },
   "outputs": [],
   "source": [
    "import pandas as pd\n",
    "import seaborn as sns\n",
    "import matplotlib.pyplot as plt\n",
    "from scipy.cluster import hierarchy\n",
    "\n",
    "# Supongamos que tienes un DataFrame llamado 'datos'\n",
    "\n",
    "# Lista de variables que deseas analizar\n",
    "variables_a_analizar = ['x','y','z','bearing_t','speed_t','gear_t','pitch_t', 'roll_t','n_sat','tempeje1_t', 'tempeje2_t','tempeje3_t','tempeje4_t','tonelaje_t','marcha_t','latitude_t','longitud_t','direccion_t','precisiongps_t','combustibleint_t','segment_angle_t', 'fuel_rate_t','ENG_SPD','BOOST_PRES','ENG_OIL_PRES','GROUND_SPD',\n",
    "'AMB_AIR_TEMP','AIR_FLTR','ENG_COOL_TEMP','RT_LT_EXH_TEMP','RT_R_WHEEL_SPD','LCKUP_SLIP','TRN_LUBE_TEMP','DIFF_LUBE_PRES','DIFF_TEMP','TRN_OUT_SPD','TC_OUT_TEMP',\n",
    "'LT_R_WHEEL_SPD','BRK/AIR_PRES','RT_F_BRK_TEMP','LT_F_BRK_TEMP','RT_R_BRK_TEMP','LT_R_BRK_TEMP','PAYLOAD','Z_Coor','Tire_Press_N4','Tire_Press_N5','Lon_Coor',\n",
    "'Speed_GPS','Lat_Coor','Tire_Press_N6']\n",
    "\n",
    "# Filtrar el DataFrame para incluir solo las variables de interés\n",
    "datos_subset = datos[variables_a_analizar]\n",
    "\n",
    "# Calcular la matriz de correlación\n",
    "matriz_correlacion = datos_subset.corr()\n",
    "\n",
    "# Calcular la distancia entre las variables utilizando 1 - correlación\n",
    "distancia = 1 - matriz_correlacion\n",
    "\n",
    "# Realizar el agrupamiento jerárquico y crear el dendrograma\n",
    "enlace = hierarchy.linkage(distancia, method='ward')\n",
    "plt.figure(figsize=(12, 8))\n",
    "dendrograma = hierarchy.dendrogram(enlace, labels=datos_subset.columns, orientation='left', leaf_font_size=10)\n",
    "\n",
    "plt.title('Dendrograma de Variables')\n",
    "plt.xlabel('Distancia')\n",
    "plt.ylabel('Variables')\n",
    "plt.show()"
   ]
  },
  {
   "cell_type": "markdown",
   "metadata": {
    "application/vnd.databricks.v1+cell": {
     "cellMetadata": {},
     "inputWidgets": {},
     "nuid": "1d79c4b8-054b-4d59-acf4-6e2e0392325e",
     "showTitle": false,
     "title": ""
    }
   },
   "source": [
    "#### Metodo de Diagramas de Calor"
   ]
  },
  {
   "cell_type": "code",
   "execution_count": 0,
   "metadata": {
    "application/vnd.databricks.v1+cell": {
     "cellMetadata": {
      "byteLimit": 2048000,
      "rowLimit": 10000
     },
     "inputWidgets": {},
     "nuid": "bb65a69f-c0f9-459d-a0c1-5afbb05d9a02",
     "showTitle": false,
     "title": ""
    }
   },
   "outputs": [],
   "source": [
    "import pandas as pd\n",
    "\n",
    "# Definir las variables a analizar\n",
    "variables_a_analizar = ['x','y','z','bearing_t','speed_t','gear_t','pitch_t', 'roll_t','n_sat','tempeje1_t', 'tempeje2_t','tempeje3_t','tempeje4_t','tonelaje_t','marcha_t','latitude_t','longitud_t','direccion_t','precisiongps_t','combustibleint_t','segment_angle_t', 'fuel_rate_t','ENG_SPD','BOOST_PRES','ENG_OIL_PRES','GROUND_SPD',\n",
    "'AMB_AIR_TEMP','AIR_FLTR','ENG_COOL_TEMP','RT_LT_EXH_TEMP','RT_R_WHEEL_SPD','LCKUP_SLIP','TRN_LUBE_TEMP','DIFF_LUBE_PRES','DIFF_TEMP','TRN_OUT_SPD','TC_OUT_TEMP',\n",
    "'LT_R_WHEEL_SPD','BRK/AIR_PRES','RT_F_BRK_TEMP','LT_F_BRK_TEMP','RT_R_BRK_TEMP','LT_R_BRK_TEMP','PAYLOAD','Z_Coor','Tire_Press_N4','Tire_Press_N5','Lon_Coor',\n",
    "'Speed_GPS','Lat_Coor','Tire_Press_N6']\n",
    "\n",
    "# Filtrar el DataFrame para incluir solo las variables de interés\n",
    "datos_subset = datos[variables_a_analizar]\n",
    "\n",
    "# Crear una matriz de correlación para el subconjunto de variables\n",
    "matriz_correlacion = datos_subset.corr()\n",
    "\n",
    "# Obtener las correlaciones ordenadas por valor absoluto de manera descendente\n",
    "correlaciones_ordenadas = matriz_correlacion.unstack().sort_values(ascending=False)\n",
    "\n",
    "# Mostrar las correlaciones ordenadas\n",
    "print(correlaciones_ordenadas)"
   ]
  },
  {
   "cell_type": "code",
   "execution_count": 0,
   "metadata": {
    "application/vnd.databricks.v1+cell": {
     "cellMetadata": {
      "byteLimit": 2048000,
      "rowLimit": 10000
     },
     "inputWidgets": {},
     "nuid": "3f1bb584-3305-4d58-ba00-a1c0ba7a2581",
     "showTitle": false,
     "title": ""
    }
   },
   "outputs": [],
   "source": [
    "import pandas as pd\n",
    "import seaborn as sns\n",
    "import matplotlib.pyplot as plt\n",
    "\n",
    "# Supongamos que tienes un DataFrame llamado 'datos'\n",
    "\n",
    "# Lista de variables que deseas analizar\n",
    "variables_a_analizar = ['Z_Coor','Tire_Press_N6','x','longitud_t','latitude_t','y','Lon_Coor','Lat_Coor','Speed_GPS','PAYLOAD','tonelaje_t','z','GROUND_SPD','RT_R_WHEEL_SPD','LT_R_WHEEL_SPD','Tire_Press_N5','tempeje2_t','LT_F_BRK_TEMP','tempeje1_t','RT_F_BRK_TEMP','tempeje3_t','tempeje4_t','RT_R_BRK_TEMP'\n",
    ",'LT_R_BRK_TEMP','speed_t','Tire_Press_N4','TC_OUT_TEMP','fuel_rate_t','BOOST_PRES','pitch_t','TRN_OUT_SPD','DIFF_LUBE_PRES','ENG_COOL_TEMP','TRN_LUBE_TEMP'\n",
    ",'segment_angle_t','AIR_FLTR','ENG_SPD','ENG_OIL_PRES','gear_t','marcha_t','DIFF_TEMP','AMB_AIR_TEMP','precisiongps_t']\n",
    "\n",
    "# Filtrar el DataFrame para incluir solo las variables de interés\n",
    "datos_subset = datos[variables_a_analizar]\n",
    "\n",
    "# Crear una matriz de correlación para el subconjunto de variables\n",
    "matriz_correlacion = datos_subset.corr()\n",
    "\n",
    "\n",
    "# Configurar el estilo de Seaborn\n",
    "sns.set(style=\"whitegrid\")\n",
    "\n",
    "# Aumentar el tamaño del gráfico para mostrar más detalles\n",
    "plt.figure(figsize=(30, 18))\n",
    "\n",
    "# Crear un mapa de calor (heatmap) de la matriz de correlación con desplazamiento habilitado\n",
    "ax = sns.heatmap(matriz_correlacion, annot=True, fmt=\".2f\", cmap=\"coolwarm\", linewidths=.5)\n",
    "\n",
    "# Agregar etiquetas a los ejes X e Y\n",
    "ax.set_xticklabels(ax.get_xticklabels(), rotation=45, horizontalalignment='right', fontsize=8)\n",
    "ax.set_yticklabels(ax.get_yticklabels(), rotation=0, horizontalalignment='right', fontsize=8)\n",
    "\n",
    "# Ajustar el tamaño de las fuentes de los nombres de las variables (eje x)\n",
    "ax.tick_params(axis='x', labelsize=12)\n",
    "\n",
    "# Ajustar el tamaño de las fuentes de los nombres de las variables (eje y)\n",
    "ax.tick_params(axis='y', labelsize=12)\n",
    "\n",
    "plt.title(\"Matriz de Correlación (Variables Seleccionadas)\")\n",
    "plt.show()"
   ]
  },
  {
   "cell_type": "code",
   "execution_count": 0,
   "metadata": {
    "application/vnd.databricks.v1+cell": {
     "cellMetadata": {
      "byteLimit": 2048000,
      "rowLimit": 10000
     },
     "inputWidgets": {},
     "nuid": "1700674f-eeeb-4f2d-b590-76935030fc3e",
     "showTitle": false,
     "title": ""
    }
   },
   "outputs": [],
   "source": [
    "import pandas as pd\n",
    "import seaborn as sns\n",
    "import matplotlib.pyplot as plt\n",
    "\n",
    "# Supongamos que tienes un DataFrame llamado 'datos'\n",
    "\n",
    "# Lista de variables que deseas analizar\n",
    "variables_a_analizar = ['Z_Coor','Tire_Press_N6','x','longitud_t','latitude_t','y','Lon_Coor','Lat_Coor','Speed_GPS','PAYLOAD','tonelaje_t','z','GROUND_SPD','RT_R_WHEEL_SPD','LT_R_WHEEL_SPD','Tire_Press_N5','tempeje2_t','LT_F_BRK_TEMP','tempeje1_t','RT_F_BRK_TEMP','tempeje3_t','tempeje4_t','RT_R_BRK_TEMP'\n",
    ",'LT_R_BRK_TEMP','speed_t','Tire_Press_N4','TC_OUT_TEMP','fuel_rate_t','BOOST_PRES','pitch_t','TRN_OUT_SPD','DIFF_LUBE_PRES','ENG_COOL_TEMP','TRN_LUBE_TEMP'\n",
    ",'segment_angle_t','AIR_FLTR','ENG_SPD','ENG_OIL_PRES','gear_t','marcha_t','DIFF_TEMP','AMB_AIR_TEMP','precisiongps_t']\n",
    "\n",
    "# Filtrar el DataFrame para incluir solo las variables de interés\n",
    "datos_subset = datos[variables_a_analizar]\n",
    "\n",
    "# Crear una matriz de correlación para el subconjunto de variables\n",
    "matriz_correlacion = datos_subset.corr()\n",
    "# Filtrar las correlaciones que son mayores al 50%\n",
    "correlaciones_filtradas = matriz_correlacion[abs(matriz_correlacion) > 0.6]\n",
    "\n",
    "# Configurar el estilo de Seaborn\n",
    "sns.set(style=\"whitegrid\")\n",
    "\n",
    "# Aumentar el tamaño del gráfico para mostrar más detalles\n",
    "plt.figure(figsize=(30, 18))\n",
    "\n",
    "# Crear un mapa de calor (heatmap) de la matriz de correlación filtrada\n",
    "ax = sns.heatmap(correlaciones_filtradas, annot=True, fmt=\".2f\", cmap=\"coolwarm\", linewidths=.5)\n",
    "\n",
    "# Agregar etiquetas a los ejes X e Y\n",
    "ax.set_xticklabels(ax.get_xticklabels(), rotation=45, horizontalalignment='right', fontsize=8)\n",
    "ax.set_yticklabels(ax.get_yticklabels(), rotation=0, horizontalalignment='right', fontsize=8)\n",
    "\n",
    "# Ajustar el tamaño de las fuentes de los nombres de las variables (eje x)\n",
    "ax.tick_params(axis='x', labelsize=12)\n",
    "\n",
    "# Ajustar el tamaño de las fuentes de los nombres de las variables (eje y)\n",
    "ax.tick_params(axis='y', labelsize=12)\n",
    "\n",
    "plt.title(\"Matriz de Correlación (Variables Seleccionadas, Correlaciones > 0.5)\")\n",
    "plt.show()"
   ]
  },
  {
   "cell_type": "code",
   "execution_count": 0,
   "metadata": {
    "application/vnd.databricks.v1+cell": {
     "cellMetadata": {
      "byteLimit": 2048000,
      "rowLimit": 10000
     },
     "inputWidgets": {},
     "nuid": "e376bb63-e5e8-447d-8520-f6f525ce0183",
     "showTitle": false,
     "title": ""
    }
   },
   "outputs": [],
   "source": [
    "import pandas as pd\n",
    "import seaborn as sns\n",
    "import matplotlib.pyplot as plt\n",
    "\n",
    "# Supongamos que tienes un DataFrame llamado 'datos'\n",
    "\n",
    "# Lista de variables que deseas analizar\n",
    "variables_a_analizar = ['x','longitud_t','latitude_t','y','Lon_Coor','Lat_Coor','Speed_GPS','Tire_Press_N4']\n",
    "\n",
    "# Filtrar el DataFrame para incluir solo las variables de interés\n",
    "datos_subset = datos[variables_a_analizar]\n",
    "\n",
    "# Crear una matriz de correlación para el subconjunto de variables\n",
    "matriz_correlacion = datos_subset.corr()\n",
    "\n",
    "\n",
    "# Configurar el estilo de Seaborn\n",
    "sns.set(style=\"whitegrid\")\n",
    "\n",
    "# Aumentar el tamaño del gráfico para mostrar más detalles\n",
    "plt.figure(figsize=(7, 4))\n",
    "\n",
    "# Crear un mapa de calor (heatmap) de la matriz de correlación con desplazamiento habilitado\n",
    "ax = sns.heatmap(matriz_correlacion, annot=True, fmt=\".2f\", cmap=\"coolwarm\", linewidths=.5)\n",
    "\n",
    "# Agregar etiquetas a los ejes X e Y\n",
    "ax.set_xticklabels(ax.get_xticklabels(), rotation=45, horizontalalignment='right', fontsize=8)\n",
    "ax.set_yticklabels(ax.get_yticklabels(), rotation=0, horizontalalignment='right', fontsize=8)\n",
    "\n",
    "# Ajustar el tamaño de las fuentes de los nombres de las variables (eje x)\n",
    "ax.tick_params(axis='x', labelsize=12)\n",
    "\n",
    "# Ajustar el tamaño de las fuentes de los nombres de las variables (eje y)\n",
    "ax.tick_params(axis='y', labelsize=12)\n",
    "\n",
    "plt.title(\"Matriz de Correlación (Variables Seleccionadas)\")\n",
    "plt.show()"
   ]
  },
  {
   "cell_type": "markdown",
   "metadata": {
    "application/vnd.databricks.v1+cell": {
     "cellMetadata": {},
     "inputWidgets": {},
     "nuid": "03ebc0ab-ac58-43c8-877f-038d2401a3b7",
     "showTitle": false,
     "title": ""
    }
   },
   "source": [
    "Eliminar por tener alta correlacion con X y Longitud: Speed_GPS , Tire_Press_N4"
   ]
  },
  {
   "cell_type": "markdown",
   "metadata": {
    "application/vnd.databricks.v1+cell": {
     "cellMetadata": {},
     "inputWidgets": {},
     "nuid": "f32872d5-3385-4576-a697-eb0a5a0522e6",
     "showTitle": false,
     "title": ""
    }
   },
   "source": [
    "#### Diagramas de Dispersion"
   ]
  },
  {
   "cell_type": "code",
   "execution_count": 0,
   "metadata": {
    "application/vnd.databricks.v1+cell": {
     "cellMetadata": {
      "byteLimit": 2048000,
      "rowLimit": 10000
     },
     "inputWidgets": {},
     "nuid": "e0ff59f3-d145-4d02-8779-0edad9ca032d",
     "showTitle": false,
     "title": ""
    }
   },
   "outputs": [],
   "source": [
    "import seaborn as sns\n",
    "import matplotlib.pyplot as plt\n",
    "from matplotlib.backends.backend_pdf import PdfPages\n",
    "import itertools\n",
    "\n",
    "\n",
    "# Lista de variables que deseas analizar\n",
    "#variables_a_analizar = ['x','longitud_t','latitude_t','y','Lon_Coor','Lat_Coor','Speed_GPS','Z_Coor','Tire_Press_N6','marcha_t']\n",
    "\n",
    "#variables_a_analizar = ['PAYLOAD','tonelaje_t','z','GROUND_SPD','RT_R_WHEEL_SPD','LT_R_WHEEL_SPD','Tire_Press_N5','tempeje2_t','LT_F_BRK_TEMP',#'tempeje1_t']\n",
    "\n",
    "#variables_a_analizar = ['RT_F_BRK_TEMP','tempeje3_t','tempeje4_t','RT_R_BRK_TEMP','LT_R_BRK_TEMP','speed_t','Tire_Press_N4','TC_OUT_TEMP',#'fuel_rate_t','BOOST_PRES']\n",
    "\n",
    "variables_a_analizar = ['pitch_t','TRN_OUT_SPD','DIFF_LUBE_PRES','ENG_COOL_TEMP','TRN_LUBE_TEMP','segment_angle_t','AIR_FLTR','ENG_SPD','ENG_OIL_PRES','gear_t', 'DIFF_TEMP','AMB_AIR_TEMP','precisiongps_t']\n",
    "\n",
    "\n",
    "# Crear una matriz de combinaciones de pares de variables\n",
    "combinaciones = list(itertools.combinations(variables_a_analizar, 2))\n",
    "\n",
    "# Crear un objeto PdfPages para guardar los gráficos en un PDF\n",
    "pdf = PdfPages('DiagramaDispersion_grupo4.pdf')\n",
    "\n",
    "# Graficar los diagramas de dispersión para cada par de variables\n",
    "for variable1, variable2 in combinaciones:\n",
    "    # Calcular la correlación entre las dos variables\n",
    "    correlacion = datos[variable1].corr(datos[variable2])\n",
    "    \n",
    "    # Determinar si la correlación es positiva o negativa\n",
    "    tipo_correlacion = 'positiva' if correlacion >= 0 else 'negativa'\n",
    "    \n",
    "    # Crear el diagrama de dispersión\n",
    "    plt.figure(figsize=(8, 6))\n",
    "    sns.scatterplot(x=variable1, y=variable2, data=datos)\n",
    "    \n",
    "    # Agregar el título con la correlación\n",
    "    plt.title(f'Diagrama de Dispersión entre {variable1} y {variable2}\\nCorrelación: {correlacion:.2f} ({tipo_correlacion})')\n",
    "    plt.xlabel(variable1)\n",
    "    plt.ylabel(variable2)\n",
    "    #plt.show()\n",
    "\n",
    "    # Guardar el gráfico en el PDF\n",
    "    pdf.savefig()\n",
    "    # Cerrar la figura actual para liberar memoria\n",
    "    plt.close()\n",
    "\n",
    "# Cerrar el objeto PdfPages después de guardar todos los gráficos\n",
    "pdf.close()"
   ]
  },
  {
   "cell_type": "markdown",
   "metadata": {
    "application/vnd.databricks.v1+cell": {
     "cellMetadata": {},
     "inputWidgets": {},
     "nuid": "67d7bb97-234e-4ea1-89ed-13576da0316c",
     "showTitle": false,
     "title": ""
    }
   },
   "source": [
    "Variables a eliminar por Multicolinealidad"
   ]
  },
  {
   "cell_type": "markdown",
   "metadata": {
    "application/vnd.databricks.v1+cell": {
     "cellMetadata": {},
     "inputWidgets": {},
     "nuid": "47247251-25aa-42c5-ba8a-14f1d4390e58",
     "showTitle": false,
     "title": ""
    }
   },
   "source": [
    "### 2. Analisis de Tendencia y Estacionalidad"
   ]
  },
  {
   "cell_type": "markdown",
   "metadata": {
    "application/vnd.databricks.v1+cell": {
     "cellMetadata": {},
     "inputWidgets": {},
     "nuid": "6287b6ab-d111-45d2-b5cf-c8e5d3407965",
     "showTitle": false,
     "title": ""
    }
   },
   "source": [
    "2.1 Verificar si la columna fecha esta en formato datetime"
   ]
  },
  {
   "cell_type": "code",
   "execution_count": 0,
   "metadata": {
    "application/vnd.databricks.v1+cell": {
     "cellMetadata": {
      "byteLimit": 2048000,
      "rowLimit": 10000
     },
     "inputWidgets": {},
     "nuid": "00a67c4c-4463-43df-971a-00064d9e9d3e",
     "showTitle": false,
     "title": ""
    }
   },
   "outputs": [],
   "source": [
    "datos.dtypes"
   ]
  },
  {
   "cell_type": "markdown",
   "metadata": {
    "application/vnd.databricks.v1+cell": {
     "cellMetadata": {
      "byteLimit": 2048000,
      "rowLimit": 10000
     },
     "inputWidgets": {},
     "nuid": "1b1049d0-9d07-47c0-b5ba-87c7020bec0a",
     "showTitle": false,
     "title": ""
    }
   },
   "source": [
    "2.2 Convertimos la columna DateTime a Index"
   ]
  },
  {
   "cell_type": "code",
   "execution_count": 0,
   "metadata": {
    "application/vnd.databricks.v1+cell": {
     "cellMetadata": {
      "byteLimit": 2048000,
      "rowLimit": 10000
     },
     "inputWidgets": {},
     "nuid": "30fa5afe-1fde-4f2e-b3bf-e37cd271cdb5",
     "showTitle": false,
     "title": ""
    }
   },
   "outputs": [],
   "source": [
    "#1. Convertimos la columna de Time en un formato DateTime  de \"Y/M/D H-M-S\" (Omitir este paso si la variable ya esta en datetime)\n",
    "#datos['Time'] = pd.to_datetime(datos['Time'], format='%Y-%m-%dT%H:%M:%SZ')\n",
    "\n",
    "#2. Se establece la columna 'Time' como el índice del DataFrame \"datos\"\n",
    "datos = datos.set_index('instant_date_t')\n",
    "\n",
    "#3. Ordenamos el dataset de forma ascendente segun el datetime\n",
    "datos.sort_index(inplace=True)\n",
    "\n",
    "#4. Vizualizar como quedaron los datos con la fecha con Indice\n",
    "datos.head(10)"
   ]
  },
  {
   "cell_type": "markdown",
   "metadata": {
    "application/vnd.databricks.v1+cell": {
     "cellMetadata": {},
     "inputWidgets": {},
     "nuid": "af77c712-40e8-4181-bde0-956889c360f5",
     "showTitle": false,
     "title": ""
    }
   },
   "source": [
    "2.3 Verificamos que frecuencia tienen nuestros datos del index de la fecha"
   ]
  },
  {
   "cell_type": "code",
   "execution_count": 0,
   "metadata": {
    "application/vnd.databricks.v1+cell": {
     "cellMetadata": {
      "byteLimit": 2048000,
      "rowLimit": 10000
     },
     "inputWidgets": {},
     "nuid": "e3b92494-f958-4ef6-8285-d051f4db099f",
     "showTitle": false,
     "title": ""
    }
   },
   "outputs": [],
   "source": [
    "#Dibujemos nuestras variables\n",
    "#cols = datos.columns\n",
    "cols = ['x', 'y', 'z','bearing_t', 'speed_t', 'gear_t', 'pitch_t','roll_t', 'n_sat']\n",
    "\n",
    "# N = 24*30*12 #dibuja 1 year continuo (horas * dias * meses)\n",
    "N = datos.shape[0]\n",
    "plots = datos[cols][0:N]\n",
    "plots.index = datos.index[0:N]\n",
    "_ = plots.plot(subplots=True, figsize=(12,16))"
   ]
  },
  {
   "cell_type": "code",
   "execution_count": 0,
   "metadata": {
    "application/vnd.databricks.v1+cell": {
     "cellMetadata": {
      "byteLimit": 2048000,
      "rowLimit": 10000
     },
     "inputWidgets": {},
     "nuid": "23d65205-a511-4c5f-ae89-f150c3b32d95",
     "showTitle": false,
     "title": ""
    }
   },
   "outputs": [],
   "source": [
    "#Verificar si la periocidad de las muestras es exactamente 1 hora, 1 minuto, etc\n",
    "\n",
    "#Calcular las diferencias (en segundos) entre cada par de datos(filas) consecutivos\n",
    "df_time_diffs = datos.index.to_series().diff().dt.total_seconds()\n",
    "print(df_time_diffs.value_counts())"
   ]
  },
  {
   "cell_type": "markdown",
   "metadata": {
    "application/vnd.databricks.v1+cell": {
     "cellMetadata": {
      "byteLimit": 2048000,
      "rowLimit": 10000
     },
     "inputWidgets": {},
     "nuid": "e7247b1f-8aa9-447e-9537-b896175838a2",
     "showTitle": false,
     "title": ""
    }
   },
   "source": [
    "2.3 Eliminar Duplicados para corregir el problema de diferencias de 0.0 s"
   ]
  },
  {
   "cell_type": "code",
   "execution_count": 0,
   "metadata": {
    "application/vnd.databricks.v1+cell": {
     "cellMetadata": {
      "byteLimit": 2048000,
      "rowLimit": 10000
     },
     "inputWidgets": {},
     "nuid": "fea5adce-3f8a-4e9a-97e1-fea3c9f0e01a",
     "showTitle": false,
     "title": ""
    }
   },
   "outputs": [],
   "source": [
    "# Calcular las diferencias (en segundos) entre cada par de datos(filas) consecutivos\n",
    "df_time_diffs = datos.index.to_series().diff().dt.total_seconds()\n",
    "\n",
    "# Filtrar las filas donde la diferencia es distinta de cero\n",
    "datos_filtrados = datos[df_time_diffs != 0]\n",
    "\n",
    "# Eliminar duplicados manteniendo solo la primera aparición\n",
    "datos_filtrados.drop_duplicates(keep='first', inplace=True)\n",
    "\n",
    "# Verificar el número de filas eliminadas\n",
    "print(\"Número de filas eliminadas:\", len(datos) - len(datos_filtrados))"
   ]
  },
  {
   "cell_type": "code",
   "execution_count": 0,
   "metadata": {
    "application/vnd.databricks.v1+cell": {
     "cellMetadata": {
      "byteLimit": 2048000,
      "rowLimit": 10000
     },
     "inputWidgets": {},
     "nuid": "6781ecaf-7da6-41ef-bd9d-fdc746a8db0a",
     "showTitle": false,
     "title": ""
    }
   },
   "outputs": [],
   "source": [
    "#Calcular las diferencias (en segundos) entre cada par de datos(filas) consecutivos\n",
    "df_time_diffs = datos_filtrados.index.to_series().diff().dt.total_seconds()\n",
    "print(df_time_diffs.value_counts())"
   ]
  },
  {
   "cell_type": "markdown",
   "metadata": {
    "application/vnd.databricks.v1+cell": {
     "cellMetadata": {},
     "inputWidgets": {},
     "nuid": "e4544f48-6cd5-432e-a6d8-fab742b8fdb1",
     "showTitle": false,
     "title": ""
    }
   },
   "source": [
    "2.3.1 Veamos la serie de tiempo por cada una de las variables con la Serie Temporal original"
   ]
  },
  {
   "cell_type": "markdown",
   "metadata": {
    "application/vnd.databricks.v1+cell": {
     "cellMetadata": {},
     "inputWidgets": {},
     "nuid": "2dc15417-e609-4acf-a964-102230f2fc34",
     "showTitle": false,
     "title": ""
    }
   },
   "source": [
    "2.4 Cambiar la frecuencia de la serie temporal, a minutos, horas, etc(Segun sea conveniente)"
   ]
  },
  {
   "cell_type": "code",
   "execution_count": 0,
   "metadata": {
    "application/vnd.databricks.v1+cell": {
     "cellMetadata": {
      "byteLimit": 2048000,
      "rowLimit": 10000
     },
     "inputWidgets": {},
     "nuid": "37c46444-8a01-401b-bd29-789638d8dd49",
     "showTitle": false,
     "title": ""
    }
   },
   "outputs": [],
   "source": [
    "#Verificar si la periocidad de las muestras es exactamente 1 hora, 1 minuto, etc\n",
    "\n",
    "#Calcular las diferencias (en segundos) entre cada par de datos(filas) consecutivos\n",
    "df_time_diffs = datos_numericos_promedio.index.to_series().diff().dt.total_seconds()\n",
    "print(df_time_diffs.value_counts())"
   ]
  },
  {
   "cell_type": "code",
   "execution_count": 0,
   "metadata": {
    "application/vnd.databricks.v1+cell": {
     "cellMetadata": {
      "byteLimit": 2048000,
      "rowLimit": 10000
     },
     "inputWidgets": {},
     "nuid": "27d0afd3-2d8d-4f1c-88e1-8aff8bc0a299",
     "showTitle": false,
     "title": ""
    }
   },
   "outputs": [],
   "source": [
    "#Verificar si hay datos faltantes\n",
    "print(\"cantidad de NaNs:\")\n",
    "for column in datos_numericos_promedio:\n",
    "    nans = datos_numericos_promedio[column].isna().sum()\n",
    "    print(f'\\tColumna {column}: {nans}')"
   ]
  },
  {
   "cell_type": "code",
   "execution_count": 0,
   "metadata": {
    "application/vnd.databricks.v1+cell": {
     "cellMetadata": {
      "byteLimit": 2048000,
      "rowLimit": 10000
     },
     "inputWidgets": {},
     "nuid": "7d2c6586-441f-4161-8c24-1aadf25b806f",
     "showTitle": false,
     "title": ""
    }
   },
   "outputs": [],
   "source": [
    "columnas = datos_numericos_promedio.columns\n",
    "for column in columnas:\n",
    "    datos_numericos_promedio[column] = datos_numericos_promedio[column].interpolate(method='linear')\n",
    "\n",
    "#Verificar que no hay datos Nulos o Faltantes\n",
    "print('Cantidad de NaNs:')\n",
    "for column in datos_numericos_promedio:\n",
    "    nans = datos_numericos_promedio[column].isna().sum()\n",
    "    print(f'\\tColumna {column}: {nans}')"
   ]
  },
  {
   "cell_type": "code",
   "execution_count": 0,
   "metadata": {
    "application/vnd.databricks.v1+cell": {
     "cellMetadata": {
      "byteLimit": 2048000,
      "rowLimit": 10000
     },
     "inputWidgets": {},
     "nuid": "6f64bde7-0492-42bd-8099-0d601f7c9356",
     "showTitle": false,
     "title": ""
    }
   },
   "outputs": [],
   "source": [
    "# Seleccionar solo las columnas numéricas\n",
    "datos_numericos = datos.select_dtypes(include=['int', 'float'])\n",
    "\n",
    "# Agrupar por minuto y calcular el promedio de los valores numéricos\n",
    "datos_numericos_promedio = datos_numericos.resample('1min').mean()"
   ]
  },
  {
   "cell_type": "code",
   "execution_count": 0,
   "metadata": {
    "application/vnd.databricks.v1+cell": {
     "cellMetadata": {
      "byteLimit": 2048000,
      "rowLimit": 10000
     },
     "inputWidgets": {},
     "nuid": "1a850dfa-fbcf-4fd2-bc12-27f5b85792fe",
     "showTitle": false,
     "title": ""
    }
   },
   "outputs": [],
   "source": [
    "#Dibujemos nuestras variables\n",
    "#cols = datos.columns\n",
    "cols = ['x', 'y', 'z', 'bearing_t', 'speed_t', 'gear_t', 'pitch_t',\n",
    "       'roll_t', 'n_sat']\n",
    "\n",
    "#N = 24*30*12 #dibuja 1 year continuo (horas * dias * meses)\n",
    "N = datos_numericos_promedio.shape[0]\n",
    "plots = datos_numericos_promedio[cols][0:N]\n",
    "plots.index = datos_numericos_promedio.index[0:N]\n",
    "_ = plots.plot(subplots=True, figsize=(12,16))"
   ]
  }
 ],
 "metadata": {
  "application/vnd.databricks.v1+notebook": {
   "dashboards": [],
   "language": "python",
   "notebookMetadata": {
    "pythonIndentUnit": 4
   },
   "notebookName": "3.EDA_analisisexploratorio",
   "widgets": {}
  }
 },
 "nbformat": 4,
 "nbformat_minor": 0
}
