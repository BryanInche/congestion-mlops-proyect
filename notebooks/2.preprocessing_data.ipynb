{
 "cells": [
  {
   "cell_type": "markdown",
   "metadata": {
    "application/vnd.databricks.v1+cell": {
     "cellMetadata": {},
     "inputWidgets": {},
     "nuid": "8c2a29b4-8a6b-49e2-90c3-3e4509e93b77",
     "showTitle": false,
     "title": ""
    }
   },
   "source": [
    "## 1. Cargamos los datos a Preprocesar y limpiar (desde el BlobStorage)"
   ]
  },
  {
   "cell_type": "code",
   "execution_count": 0,
   "metadata": {
    "application/vnd.databricks.v1+cell": {
     "cellMetadata": {
      "byteLimit": 2048000,
      "rowLimit": 10000
     },
     "inputWidgets": {},
     "nuid": "7704e062-2f18-4926-b3e9-80095663043d",
     "showTitle": false,
     "title": ""
    }
   },
   "outputs": [],
   "source": [
    "#Librerias que se usaran\n",
    "import pandas as pd  # Libreria para administrar tablas, y realizar trabajos con distintas formas de tablas o dataframes\n",
    "import numpy as np   # Libreria para poder hacer operaciones matematicas y matriciales\n",
    "import matplotlib.pyplot as plt # Libreria para realizar graficos \n",
    "\n",
    "#Configuramos pandas para que podamos vizualizar todas las columnas y filas la estadistica descriptiva de todas las variables\n",
    "pd.set_option('display.max_columns', None)\n",
    "pd.set_option('display.expand_frame_repr', False)\n",
    "pd.set_option('display.max_colwidth', None)\n",
    "pd.set_option('display.max_rows', None)\n",
    "pd.set_option('display.width', None)\n",
    "#Configuramos pandas para que lanze valores con una precision de hasta 6 decimales\n",
    "pd.set_option('display.float_format', '{:.6f}'.format)"
   ]
  },
  {
   "cell_type": "code",
   "execution_count": 0,
   "metadata": {
    "application/vnd.databricks.v1+cell": {
     "cellMetadata": {
      "byteLimit": 2048000,
      "rowLimit": 10000
     },
     "inputWidgets": {},
     "nuid": "e33e4764-fa0a-4721-b7af-3e1fe4f1fce0",
     "showTitle": false,
     "title": ""
    }
   },
   "outputs": [],
   "source": [
    "#Librerias necesarias para usar el Azure DataLake y DataBrinks\n",
    "import pandas as pd\n",
    "from azure.storage.blob import BlobServiceClient, BlobClient, ContainerClient\n",
    "import io\n",
    "\n",
    "# 2. Obtener conection Azure DataLake,interfaz de Azure(Claves de acceso: Key1) (Debes comentar esta variable Si NO deja hacer COMMIT DEL \n",
    "# CODIGO EN GIT,GITHUB)\n",
    "# connection_string = 'DefaultEndpointsProtocol=https;AccountName=datalakemlopsd4m;AccountKey=iWT8t74/#XlqcqoR03keDVtFZPzr0PB9zDffMPaLWMUBIAjUww8uYAVkc9xRkcBtvTmUHKBvd1sB3+ASt6mGgcQ==;EndpointSuffix=core.windows.net'\n",
    "\n",
    "# 3. Conectar al Blob Storage de Azure\n",
    "blob_service_client = BlobServiceClient.from_connection_string(connection_string)\n",
    "\n",
    "# 4. Identificamos el nombre del contenedor(container_name) y nombre del archivo(definir blob_name) en el Blob Storage\n",
    "container_name = \"raw/proyectocongestion_raw/fuentedatos_consolidado/\"\n",
    "blob_name = \"datos_raw_shougang_c4m_h4m.csv\"\n",
    "\n",
    "# 5. Obtener el blob_client\n",
    "blob_client = blob_service_client.get_blob_client(container=container_name, blob=blob_name)\n",
    "\n",
    "# 6. Leer el contenido del blob como texto\n",
    "blob_data = blob_client.download_blob().content_as_text()\n",
    "\n",
    "# Especificar tipos de datos al leer el archivo CSV\n",
    "column_types = {\n",
    "    'instant_date_t': 'datetime64[ns]',\n",
    "    'Event Date' : 'datetime64[ns]'\n",
    "}\n",
    "\n",
    "# 7. Leer el archivo CSV en un DataFrame de Pandas desde el texto\n",
    "datos = pd.read_csv(io.StringIO(blob_data), parse_dates=['instant_date_t', 'Event Date'])"
   ]
  },
  {
   "cell_type": "code",
   "execution_count": 0,
   "metadata": {
    "application/vnd.databricks.v1+cell": {
     "cellMetadata": {
      "byteLimit": 2048000,
      "rowLimit": 10000
     },
     "inputWidgets": {},
     "nuid": "09e8189b-dafd-47e5-9410-ca1072531696",
     "showTitle": false,
     "title": ""
    }
   },
   "outputs": [],
   "source": [
    "datos.dtypes"
   ]
  },
  {
   "cell_type": "code",
   "execution_count": 0,
   "metadata": {
    "application/vnd.databricks.v1+cell": {
     "cellMetadata": {
      "byteLimit": 2048000,
      "rowLimit": 10000
     },
     "inputWidgets": {},
     "nuid": "2bba78aa-4851-4e01-baf8-17672394247e",
     "showTitle": false,
     "title": ""
    }
   },
   "outputs": [],
   "source": [
    "datos['isunderground'].value_counts()"
   ]
  },
  {
   "cell_type": "code",
   "execution_count": 0,
   "metadata": {
    "application/vnd.databricks.v1+cell": {
     "cellMetadata": {
      "byteLimit": 2048000,
      "rowLimit": 10000
     },
     "inputWidgets": {},
     "nuid": "8f2e6657-4f47-4de8-94e3-72430fb33132",
     "showTitle": false,
     "title": ""
    }
   },
   "outputs": [],
   "source": [
    "datos[[\"instant_date_t\", \"Event Date\"]].head(5)"
   ]
  },
  {
   "cell_type": "code",
   "execution_count": 0,
   "metadata": {
    "application/vnd.databricks.v1+cell": {
     "cellMetadata": {
      "byteLimit": 2048000,
      "rowLimit": 10000
     },
     "inputWidgets": {},
     "nuid": "12bed355-748f-4cf0-871c-57650385a886",
     "showTitle": false,
     "title": ""
    }
   },
   "outputs": [],
   "source": [
    "datos[\"eq_id\"].unique()"
   ]
  },
  {
   "cell_type": "markdown",
   "metadata": {
    "application/vnd.databricks.v1+cell": {
     "cellMetadata": {},
     "inputWidgets": {},
     "nuid": "559f3c2d-a34f-4be1-b35f-a01be2558fe1",
     "showTitle": false,
     "title": ""
    }
   },
   "source": [
    "### *1.2 Obtenemos la dimension de los datos*\n",
    "- Identificaremos la cantidad de filas y columnas que tienen nuestros datos"
   ]
  },
  {
   "cell_type": "code",
   "execution_count": 0,
   "metadata": {
    "application/vnd.databricks.v1+cell": {
     "cellMetadata": {
      "byteLimit": 2048000,
      "rowLimit": 10000
     },
     "inputWidgets": {},
     "nuid": "abbced5c-d130-418e-abb5-2bf0e623ea86",
     "showTitle": false,
     "title": ""
    }
   },
   "outputs": [],
   "source": [
    "import plotly.express as px\n",
    "\n",
    "# Obtiene las dimensiones de tu conjunto de datos\n",
    "num_filas, num_columnas = datos.shape\n",
    "\n",
    "# Crea un DataFrame con los datos de las dimensiones\n",
    "df_dimension = pd.DataFrame({'Dimensión': ['Filas', 'Columnas'], 'Valor': [num_filas, num_columnas]})\n",
    "\n",
    "# Crea un gráfico de pastel interactivo con etiquetas\n",
    "fig = px.pie(df_dimension, names='Dimensión', values='Valor', title='Dimensiones del Conjunto de Datos')\n",
    "\n",
    "# Agrega etiquetas y porcentajes\n",
    "fig.update_traces(textinfo='label+percent')\n",
    "\n",
    "# Muestra el gráfico interactivo\n",
    "fig.show()"
   ]
  },
  {
   "cell_type": "markdown",
   "metadata": {
    "application/vnd.databricks.v1+cell": {
     "cellMetadata": {},
     "inputWidgets": {},
     "nuid": "c5b38aa1-9156-4fba-b25f-4149c70a2ccf",
     "showTitle": false,
     "title": ""
    }
   },
   "source": [
    "### *1.3 Identificacion de Variables Categoricas y Numericas*\n",
    "- Pasaremos a identificar cuantas variables de nuestros datos son numericas y cuantas categoricas"
   ]
  },
  {
   "cell_type": "code",
   "execution_count": 0,
   "metadata": {
    "application/vnd.databricks.v1+cell": {
     "cellMetadata": {
      "byteLimit": 2048000,
      "rowLimit": 10000
     },
     "inputWidgets": {},
     "nuid": "2289ac50-b522-493f-b1ea-251e20cd1979",
     "showTitle": false,
     "title": ""
    }
   },
   "outputs": [],
   "source": [
    "import matplotlib.pyplot as plt\n",
    "\n",
    "# Verificamos que tipos de datos estaremos trabajando para el análisis\n",
    "tipos_de_datos = datos.dtypes\n",
    "\n",
    "variables_numericas = tipos_de_datos[tipos_de_datos != 'object']\n",
    "variables_categoricas = tipos_de_datos[tipos_de_datos == 'object']\n",
    "\n",
    "# Obtiene la cantidad de variables numéricas y categóricas\n",
    "num_variables_numericas = len(variables_numericas)\n",
    "num_variables_categoricas = len(variables_categoricas)\n",
    "\n",
    "# Etiquetas para las categorías\n",
    "categorias = ['Variables Numéricas', 'Variables Categóricas']\n",
    "\n",
    "# Valores para las categorías\n",
    "valores = [num_variables_numericas, num_variables_categoricas]\n",
    "\n",
    "# Crea un gráfico de barras\n",
    "plt.figure(figsize=(10, 6))\n",
    "bars = plt.bar(categorias, valores, color=['blue', 'green'])\n",
    "\n",
    "# Añade etiquetas en las barras\n",
    "for bar, valor in zip(bars, valores):\n",
    "    plt.text(bar.get_x() + bar.get_width() / 2, bar.get_height() + 1, str(valor), ha='center', va='bottom')\n",
    "\n",
    "# Añade etiquetas y título\n",
    "plt.ylabel('Número de Variables')\n",
    "plt.title('Tipos de Datos en el Conjunto de Datos')\n",
    "\n",
    "# Muestra el gráfico\n",
    "plt.show()"
   ]
  },
  {
   "cell_type": "markdown",
   "metadata": {
    "application/vnd.databricks.v1+cell": {
     "cellMetadata": {},
     "inputWidgets": {},
     "nuid": "ff3d2f9c-e266-44b1-b8b3-fa8884e03c91",
     "showTitle": false,
     "title": ""
    }
   },
   "source": [
    "Tambien identificamos cuales serian esas Variables Categoricas y numericas"
   ]
  },
  {
   "cell_type": "code",
   "execution_count": 0,
   "metadata": {
    "application/vnd.databricks.v1+cell": {
     "cellMetadata": {
      "byteLimit": 2048000,
      "rowLimit": 10000
     },
     "inputWidgets": {},
     "nuid": "1fee5ceb-ed33-4a53-8dad-17528d6883b7",
     "showTitle": false,
     "title": ""
    }
   },
   "outputs": [],
   "source": [
    "import pandas as pd\n",
    "import plotly.express as px\n",
    "\n",
    "# Supongamos que tienes un DataFrame llamado 'datos'\n",
    "tipos_de_datos = datos.dtypes\n",
    "\n",
    "variables_numericas = tipos_de_datos[tipos_de_datos != 'object']\n",
    "variables_categoricas = tipos_de_datos[tipos_de_datos == 'object']\n",
    "\n",
    "# Crea un DataFrame con nombres de variables y tipos de datos\n",
    "df = pd.DataFrame({'Variable': datos.columns, 'Tipo de Dato': ['Numérica' if col in variables_numericas else 'Categórica' for col in datos.columns]})\n",
    "\n",
    "# Crea un gráfico interactivo\n",
    "fig = px.bar(df, x='Variable', color='Tipo de Dato', title='Tipos de Variables')\n",
    "fig.show()"
   ]
  },
  {
   "cell_type": "markdown",
   "metadata": {
    "application/vnd.databricks.v1+cell": {
     "cellMetadata": {},
     "inputWidgets": {},
     "nuid": "56cf6410-99f3-4d8a-a780-ca277afd09ac",
     "showTitle": false,
     "title": ""
    }
   },
   "source": [
    "#### Obtener equipos de camión únicos y sus nombres único"
   ]
  },
  {
   "cell_type": "code",
   "execution_count": 0,
   "metadata": {
    "application/vnd.databricks.v1+cell": {
     "cellMetadata": {
      "byteLimit": 2048000,
      "rowLimit": 10000
     },
     "inputWidgets": {},
     "nuid": "7eea9501-962c-4172-b8ee-08b3d92c4d82",
     "showTitle": false,
     "title": ""
    }
   },
   "outputs": [],
   "source": [
    "# Obtener equipos de camión únicos y sus nombres únicos\n",
    "equipos_camiones = datos.loc[datos[\"eq_id\"].notnull(), [\"eq_id\", \"nombre\"]] \\\n",
    "    .drop_duplicates(subset=\"eq_id\")\n",
    "print(equipos_camiones)"
   ]
  },
  {
   "cell_type": "markdown",
   "metadata": {
    "application/vnd.databricks.v1+cell": {
     "cellMetadata": {},
     "inputWidgets": {},
     "nuid": "d4515336-a9fd-4581-bd4d-018a20c4fa0b",
     "showTitle": false,
     "title": ""
    }
   },
   "source": [
    "#### Obtener por equipos, la velocidad en promedio"
   ]
  },
  {
   "cell_type": "code",
   "execution_count": 0,
   "metadata": {
    "application/vnd.databricks.v1+cell": {
     "cellMetadata": {
      "byteLimit": 2048000,
      "rowLimit": 10000
     },
     "inputWidgets": {},
     "nuid": "f91893e2-4eb9-4e45-a30b-c02614ccca89",
     "showTitle": false,
     "title": ""
    }
   },
   "outputs": [],
   "source": [
    "datos.groupby('eq_id')['speed_t'].mean()"
   ]
  },
  {
   "cell_type": "markdown",
   "metadata": {
    "application/vnd.databricks.v1+cell": {
     "cellMetadata": {},
     "inputWidgets": {},
     "nuid": "c6d21863-bfb9-434b-8b3c-4558f1d22d3a",
     "showTitle": false,
     "title": ""
    }
   },
   "source": [
    "#### Extraer year, mes,dia,Hora, minuto"
   ]
  },
  {
   "cell_type": "code",
   "execution_count": 0,
   "metadata": {
    "application/vnd.databricks.v1+cell": {
     "cellMetadata": {
      "byteLimit": 2048000,
      "rowLimit": 10000
     },
     "inputWidgets": {},
     "nuid": "a6e230b6-5ebb-4607-aba2-1d7904aab7b9",
     "showTitle": false,
     "title": ""
    }
   },
   "outputs": [],
   "source": [
    "# Extraer componentes de fecha y hora\n",
    "datos['year'] = datos['instant_date_t'].dt.year\n",
    "datos['mes'] = datos['instant_date_t'].dt.month\n",
    "datos['dia'] = datos['instant_date_t'].dt.day\n",
    "datos['hora'] = datos['instant_date_t'].dt.hour\n",
    "datos['minuto'] = datos['instant_date_t'].dt.minute"
   ]
  },
  {
   "cell_type": "code",
   "execution_count": 0,
   "metadata": {
    "application/vnd.databricks.v1+cell": {
     "cellMetadata": {
      "byteLimit": 2048000,
      "rowLimit": 10000
     },
     "inputWidgets": {},
     "nuid": "98b23f17-a578-43b3-9546-e11374e7975b",
     "showTitle": false,
     "title": ""
    }
   },
   "outputs": [],
   "source": [
    "datos.head()"
   ]
  },
  {
   "cell_type": "markdown",
   "metadata": {
    "application/vnd.databricks.v1+cell": {
     "cellMetadata": {},
     "inputWidgets": {},
     "nuid": "0addd7e9-c3a3-428a-a8af-0aafad37c78a",
     "showTitle": false,
     "title": ""
    }
   },
   "source": [
    "#### Obtener por equipos, y por horas, el promedio de la velocidad"
   ]
  },
  {
   "cell_type": "code",
   "execution_count": 0,
   "metadata": {
    "application/vnd.databricks.v1+cell": {
     "cellMetadata": {
      "byteLimit": 2048000,
      "rowLimit": 10000
     },
     "inputWidgets": {},
     "nuid": "b6709a03-d148-412c-b3d7-a470318f66c5",
     "showTitle": false,
     "title": ""
    }
   },
   "outputs": [],
   "source": [
    "import matplotlib.pyplot as plt\n",
    "\n",
    "# Agrupar por id_equipo y hora, calcular el promedio de velocidad\n",
    "promedios_velocidad = datos.groupby(['eq_id', 'hora'])['speed_t'].mean().reset_index()\n",
    "\n",
    "# Crear el gráfico de líneas\n",
    "plt.figure(figsize=(10, 6))\n",
    "for id_equipo, group in promedios_velocidad.groupby('eq_id'):\n",
    "    plt.plot(group['hora'], group['speed_t'], label=f'Equipo {id_equipo}')\n",
    "\n",
    "# Añadir etiquetas y título\n",
    "plt.xlabel('Hora')\n",
    "plt.ylabel('Promedio de Velocidad')\n",
    "plt.title('Promedio de Velocidad por Hora y Equipo')\n",
    "plt.legend()\n",
    "plt.grid(True)\n",
    "\n",
    "# Mostrar el gráfico\n",
    "plt.xticks(rotation=45)  # Rotar las etiquetas del eje x para una mejor legibilidad\n",
    "plt.gca().xaxis.set_major_locator(plt.MultipleLocator(3))  # Mostrar cada 3 horas en el eje x\n",
    "plt.show()"
   ]
  },
  {
   "cell_type": "code",
   "execution_count": 0,
   "metadata": {
    "application/vnd.databricks.v1+cell": {
     "cellMetadata": {
      "byteLimit": 2048000,
      "rowLimit": 10000
     },
     "inputWidgets": {},
     "nuid": "62a2c096-7dc2-4ced-9278-a1e442e6540b",
     "showTitle": false,
     "title": ""
    }
   },
   "outputs": [],
   "source": [
    "# Extraer la hora y crear una nueva columna para almacenarla\n",
    "datos['hora'] = datos['instant_date_t'].dt.hour\n",
    "\n",
    "# Agrupar por id_equipo y hora, calcular el promedio de velocidad\n",
    "datos.groupby(['eq_id', 'hora'])['speed_t'].mean()"
   ]
  },
  {
   "cell_type": "markdown",
   "metadata": {
    "application/vnd.databricks.v1+cell": {
     "cellMetadata": {},
     "inputWidgets": {},
     "nuid": "7298c4a6-1f00-4f44-b628-ac71101254ea",
     "showTitle": false,
     "title": ""
    }
   },
   "source": [
    "### *1.4 Identificacion de Valores Nulos*\n",
    "- Pasaremos a identificar si en nuestros datos tenemos valores Nulos, y si fuese el caso, cuanto porcentaje de valores Nulos tendrian cada variable del Dataset"
   ]
  },
  {
   "cell_type": "code",
   "execution_count": 0,
   "metadata": {
    "application/vnd.databricks.v1+cell": {
     "cellMetadata": {
      "byteLimit": 2048000,
      "rowLimit": 10000
     },
     "inputWidgets": {},
     "nuid": "d9ea1d26-9629-4982-b8bc-94555fbf826e",
     "showTitle": false,
     "title": ""
    }
   },
   "outputs": [],
   "source": [
    "import pandas as pd\n",
    "import seaborn as sns\n",
    "import matplotlib.pyplot as plt\n",
    "\n",
    "# Supongamos que tienes un DataFrame llamado datos\n",
    "valores_nulos = datos.isnull().sum()\n",
    "valores_nulos_ordenados = valores_nulos.sort_values(ascending=False)\n",
    "porcentaje_nulos = (valores_nulos_ordenados / len(datos)) * 100\n",
    "\n",
    "# Crear un DataFrame con tres columnas: \"Nombre de la Variable\", \"Valores Nulos\", y \"Porcentaje de Nulos\"\n",
    "df_valores_nulos = pd.DataFrame({'Nombre de la Variable': valores_nulos_ordenados.index,\n",
    "                                 'Valores Nulos': valores_nulos_ordenados,\n",
    "                                 'Porcentaje de Nulos': porcentaje_nulos})\n",
    "\n",
    "# Filtrar variables con más del 10% de valores nulos\n",
    "umbral_porcentaje_nulos = 0\n",
    "df_valores_nulos_filtrado = df_valores_nulos[df_valores_nulos['Porcentaje de Nulos'] > umbral_porcentaje_nulos]\n",
    "\n",
    "\n",
    "# Ordena el DataFrame por la cantidad de valores nulos\n",
    "#df_valores_nulos = df_valores_nulos.sort_values(by='Valores Nulos', ascending=False)\n",
    "\n",
    "# Ordena el DataFrame filtrado por la cantidad de valores nulos\n",
    "df_valores_nulos_filtrado = df_valores_nulos_filtrado.sort_values(by='Valores Nulos', ascending=False)\n",
    "\n",
    "# Ajusta el espacio entre los nombres de las variables\n",
    "plt.figure(figsize=(8, 7))\n",
    "sns.set(style=\"whitegrid\")\n",
    "ax = sns.barplot(x=\"Porcentaje de Nulos\", y=\"Nombre de la Variable\", data=df_valores_nulos_filtrado, palette=\"viridis\", orient=\"h\")\n",
    "\n",
    "# Ajusta el espacio entre los nombres de las variables en el eje y\n",
    "ax.tick_params(axis='y', which='major', labelsize=8)\n",
    "\n",
    "plt.title(f\"Valores Nulos por Variable (Porcentaje > {umbral_porcentaje_nulos}%)\")\n",
    "#plt.title(\"Valores Nulos por Variable\")\n",
    "plt.xlabel(\"Porcentaje de Valores Nulos\")\n",
    "plt.ylabel(\"Nombre de la Variable\")\n",
    "\n",
    "# Agrega etiquetas de porcentaje a las barras\n",
    "for p in ax.patches:\n",
    "    width = p.get_width()\n",
    "    plt.text(width, p.get_y() + p.get_height() / 2, f'{width:.1f}%', ha='left', va='center')\n",
    "\n",
    "plt.show()"
   ]
  },
  {
   "cell_type": "code",
   "execution_count": 0,
   "metadata": {
    "application/vnd.databricks.v1+cell": {
     "cellMetadata": {
      "byteLimit": 2048000,
      "rowLimit": 10000
     },
     "inputWidgets": {},
     "nuid": "f1868235-9653-4aed-916b-b10d59b2c47d",
     "showTitle": false,
     "title": ""
    }
   },
   "outputs": [],
   "source": [
    "datos[[\"marchadod\",\"marchaddo\",\"id_category_path\",\"adelantardo\",\"adelantarod\",\"marchacod\",\"marchacdo\"]].head(5)"
   ]
  },
  {
   "cell_type": "code",
   "execution_count": 0,
   "metadata": {
    "application/vnd.databricks.v1+cell": {
     "cellMetadata": {
      "byteLimit": 2048000,
      "rowLimit": 10000
     },
     "inputWidgets": {},
     "nuid": "2455e161-b982-4bce-9c99-a5bf47ab3650",
     "showTitle": false,
     "title": ""
    }
   },
   "outputs": [],
   "source": [
    "print(\"Valores unicos de variable marchadod:\",datos[\"marchadod\"].unique()) ,\n",
    "print(\"Valores unicos de variable marchaddo:\",datos[\"marchaddo\"].unique()) ,\n",
    "print(\"Valores unicos de variable id_category_path:\",datos[\"id_category_path\"].unique()) ,\n",
    "print(\"Valores unicos de variable adelantardo:\",datos[\"adelantardo\"].unique()),\n",
    "print(\"Valores unicos de variable adelantarod:\",datos[\"adelantarod\"].unique()),\n",
    "print(\"Valores unicos de variable marchacod:\",datos[\"marchacod\"].unique()),\n",
    "print(\"Valores unicos de variable marchacdo:\",datos[\"marchacdo\"].unique())"
   ]
  },
  {
   "cell_type": "markdown",
   "metadata": {
    "application/vnd.databricks.v1+cell": {
     "cellMetadata": {},
     "inputWidgets": {},
     "nuid": "e8600c86-66af-420f-9302-c7fb4c1198ac",
     "showTitle": false,
     "title": ""
    }
   },
   "source": [
    "### *2.1 TRATAMIENTO DE VALORES NULOS*\n",
    "- Una vez que ya hemos identificado los valores Nulos pasaremos a tratarlos acontinuacion:"
   ]
  },
  {
   "cell_type": "markdown",
   "metadata": {
    "application/vnd.databricks.v1+cell": {
     "cellMetadata": {},
     "inputWidgets": {},
     "nuid": "3287d4e4-d515-4bb2-96bb-bc38e37b63de",
     "showTitle": false,
     "title": ""
    }
   },
   "source": [
    "1. Se eliminan las columnas(variables) con mas del 70% de Nulos en sus datos. Esto debido a que con ese porcentaje \n",
    "de valores Nulos, no aportan informacion necesaria para hacer el analisis de datos."
   ]
  },
  {
   "cell_type": "code",
   "execution_count": 0,
   "metadata": {
    "application/vnd.databricks.v1+cell": {
     "cellMetadata": {
      "byteLimit": 2048000,
      "rowLimit": 10000
     },
     "inputWidgets": {},
     "nuid": "a8858827-b4bf-4363-a3a6-5cc1185731c9",
     "showTitle": false,
     "title": ""
    }
   },
   "outputs": [],
   "source": [
    "#Extraemos los indices(nombres) de las columnas o variables que tienen mas de 70% de nulos\n",
    "columnas_a_eliminar = porcentaje_nulos[porcentaje_nulos > 70].index\n",
    "#Eliminamos las variables con mayor porcentaje de valores nulos\n",
    "datos = datos.drop(columnas_a_eliminar, axis=1)"
   ]
  },
  {
   "cell_type": "code",
   "execution_count": 0,
   "metadata": {
    "application/vnd.databricks.v1+cell": {
     "cellMetadata": {
      "byteLimit": 2048000,
      "rowLimit": 10000
     },
     "inputWidgets": {},
     "nuid": "d79bb546-5335-4823-94a4-a7865bde9324",
     "showTitle": false,
     "title": ""
    }
   },
   "outputs": [],
   "source": [
    "datos.isnull().sum()"
   ]
  },
  {
   "cell_type": "code",
   "execution_count": 0,
   "metadata": {
    "application/vnd.databricks.v1+cell": {
     "cellMetadata": {
      "byteLimit": 2048000,
      "rowLimit": 10000
     },
     "inputWidgets": {},
     "nuid": "f6889850-ff92-48f2-87fa-d66244606f6e",
     "showTitle": false,
     "title": ""
    }
   },
   "outputs": [],
   "source": [
    "#Eliminamos la variable \"arreglolimites\", con axis=1 para eliminar la columa, y inplace para eliminar en el actual df\n",
    "#datos.drop(\"arreglolimites\", axis=1, inplace=True)\n",
    "#datos.drop([\"tiem_creac\", \"tiem_update\"], axis=1, inplace=True)\n",
    "\n",
    "columnas_a_eliminar = ['columnatestingt', 'marchacod', 'marchacdo','marchadod','marchaddo','id_category_path',\n",
    "                       'adelantardo','adelantarod','isunderground']\n",
    "\n",
    "# Filtrar las columnas que existen en el DataFrame\n",
    "columnas_existentes = [col for col in columnas_a_eliminar if col in datos.columns]\n",
    "\n",
    "# Verificar si hay columnas para eliminar\n",
    "if columnas_existentes:\n",
    "    datos.drop(columnas_existentes, axis=1, inplace=True)"
   ]
  },
  {
   "cell_type": "code",
   "execution_count": 0,
   "metadata": {
    "application/vnd.databricks.v1+cell": {
     "cellMetadata": {
      "byteLimit": 2048000,
      "rowLimit": 10000
     },
     "inputWidgets": {},
     "nuid": "cbe69dec-c399-40eb-92d1-a721d6948f1f",
     "showTitle": false,
     "title": ""
    }
   },
   "outputs": [],
   "source": [
    "datos.dtypes"
   ]
  },
  {
   "cell_type": "code",
   "execution_count": 0,
   "metadata": {
    "application/vnd.databricks.v1+cell": {
     "cellMetadata": {
      "byteLimit": 2048000,
      "rowLimit": 10000
     },
     "inputWidgets": {},
     "nuid": "d61eb48c-56f1-4658-8d43-4745603faaba",
     "showTitle": false,
     "title": ""
    }
   },
   "outputs": [],
   "source": [
    "import pandas as pd\n",
    "import seaborn as sns\n",
    "import matplotlib.pyplot as plt\n",
    "\n",
    "# Supongamos que tienes un DataFrame llamado datos\n",
    "valores_nulos = datos.isnull().sum()\n",
    "valores_nulos_ordenados = valores_nulos.sort_values(ascending=False)\n",
    "porcentaje_nulos = (valores_nulos_ordenados / len(datos)) * 100\n",
    "\n",
    "# Crear un DataFrame con tres columnas: \"Nombre de la Variable\", \"Valores Nulos\", y \"Porcentaje de Nulos\"\n",
    "df_valores_nulos = pd.DataFrame({'Nombre de la Variable': valores_nulos_ordenados.index,\n",
    "                                 'Valores Nulos': valores_nulos_ordenados,\n",
    "                                 'Porcentaje de Nulos': porcentaje_nulos})\n",
    "\n",
    "# Filtrar variables con más del 10% de valores nulos\n",
    "umbral_porcentaje_nulos = 0\n",
    "df_valores_nulos_filtrado = df_valores_nulos[df_valores_nulos['Porcentaje de Nulos'] >= umbral_porcentaje_nulos]\n",
    "\n",
    "\n",
    "# Ordena el DataFrame por la cantidad de valores nulos\n",
    "#df_valores_nulos = df_valores_nulos.sort_values(by='Valores Nulos', ascending=False)\n",
    "\n",
    "# Ordena el DataFrame filtrado por la cantidad de valores nulos\n",
    "df_valores_nulos_filtrado = df_valores_nulos_filtrado.sort_values(by='Valores Nulos', ascending=False)\n",
    "\n",
    "# Ajusta el espacio entre los nombres de las variables\n",
    "plt.figure(figsize=(8, 15))\n",
    "sns.set(style=\"whitegrid\")\n",
    "ax = sns.barplot(x=\"Porcentaje de Nulos\", y=\"Nombre de la Variable\", data=df_valores_nulos_filtrado, palette=\"viridis\", orient=\"h\")\n",
    "\n",
    "# Ajusta el espacio entre los nombres de las variables en el eje y\n",
    "ax.tick_params(axis='y', which='major', labelsize=8)\n",
    "\n",
    "plt.title(f\"Valores Nulos por Variable (Porcentaje > {umbral_porcentaje_nulos}%)\")\n",
    "#plt.title(\"Valores Nulos por Variable\")\n",
    "plt.xlabel(\"Porcentaje de Valores Nulos\")\n",
    "plt.ylabel(\"Nombre de la Variable\")\n",
    "\n",
    "# Agrega etiquetas de porcentaje a las barras\n",
    "for p in ax.patches:\n",
    "    width = p.get_width()\n",
    "    plt.text(width, p.get_y() + p.get_height() / 2, f'{width:.1f}%', ha='left', va='center')\n",
    "\n",
    "plt.show()"
   ]
  },
  {
   "cell_type": "markdown",
   "metadata": {
    "application/vnd.databricks.v1+cell": {
     "cellMetadata": {
      "byteLimit": 2048000,
      "rowLimit": 10000
     },
     "inputWidgets": {},
     "nuid": "c0e7a873-5939-47e5-bcfc-ba4198951861",
     "showTitle": false,
     "title": ""
    }
   },
   "source": [
    "### *1.5 IDENTIFICACCION DE VALORES DUPLICADOS*"
   ]
  },
  {
   "cell_type": "code",
   "execution_count": 0,
   "metadata": {
    "application/vnd.databricks.v1+cell": {
     "cellMetadata": {
      "byteLimit": 2048000,
      "rowLimit": 10000
     },
     "inputWidgets": {},
     "nuid": "a31239ae-70ca-4088-89a1-85842b5762ce",
     "showTitle": false,
     "title": ""
    }
   },
   "outputs": [],
   "source": [
    "import pandas as pd\n",
    "import matplotlib.pyplot as plt\n",
    "\n",
    "# Supongamos que tienes un DataFrame llamado 'datos'\n",
    "# Utiliza la función `duplicated` para marcar filas duplicadas\n",
    "duplicados = datos[datos.duplicated(keep=False)]\n",
    "\n",
    "# Luego, utiliza `groupby` para contar cuántas veces se repite cada fila duplicada\n",
    "conteo_duplicados = duplicados.groupby(list(datos.columns)).size().reset_index(name='Cantidad')\n",
    "\n",
    "# Filtra las filas que se repiten al menos 2 veces\n",
    "conteo_duplicados = conteo_duplicados[conteo_duplicados['Cantidad'] >= 2]\n",
    "\n",
    "# Calcular el porcentaje de valores repetidos\n",
    "cantidad_filas_duplicadas = len(conteo_duplicados)\n",
    "total_filas = len(datos)\n",
    "porcentaje_repetidos = (cantidad_filas_duplicadas / total_filas) * 100\n",
    "\n",
    "# Crear un gráfico de pastel\n",
    "labels = ['Valores Únicos', 'Valores Repetidos']\n",
    "sizes = [100 - porcentaje_repetidos, porcentaje_repetidos]\n",
    "colors = ['lightcoral', 'lightblue']\n",
    "explode = (0, 0.1)  # Destacar la porción de valores repetidos\n",
    "\n",
    "plt.pie(sizes, explode=explode, labels=labels, colors=colors, autopct='%1.1f%%', shadow=True, startangle=140)\n",
    "plt.axis('equal')  # Asegurar que el gráfico sea un círculo\n",
    "\n",
    "plt.title('Porcentaje de Valores Repetidos en los Datos')\n",
    "\n",
    "plt.show()"
   ]
  },
  {
   "cell_type": "markdown",
   "metadata": {
    "application/vnd.databricks.v1+cell": {
     "cellMetadata": {
      "byteLimit": 2048000,
      "rowLimit": 10000
     },
     "inputWidgets": {},
     "nuid": "ccabd89b-5709-447e-a1b3-d664840254de",
     "showTitle": false,
     "title": ""
    }
   },
   "source": [
    "### *2.2 Tratamiento de Valores Duplicados*"
   ]
  },
  {
   "cell_type": "code",
   "execution_count": 0,
   "metadata": {
    "application/vnd.databricks.v1+cell": {
     "cellMetadata": {
      "byteLimit": 2048000,
      "rowLimit": 10000
     },
     "inputWidgets": {},
     "nuid": "44be906d-790f-4fb2-bacb-701ba26d3f8a",
     "showTitle": false,
     "title": ""
    }
   },
   "outputs": [],
   "source": [
    "#datos = datos.drop_duplicates()"
   ]
  },
  {
   "cell_type": "markdown",
   "metadata": {
    "application/vnd.databricks.v1+cell": {
     "cellMetadata": {},
     "inputWidgets": {},
     "nuid": "18bd5f41-1b92-4b53-9b25-ad48a48db68c",
     "showTitle": false,
     "title": ""
    }
   },
   "source": [
    "### Manejo de  Variables Categoricas\n",
    "Metodo Label Encoding"
   ]
  },
  {
   "cell_type": "code",
   "execution_count": 0,
   "metadata": {
    "application/vnd.databricks.v1+cell": {
     "cellMetadata": {
      "byteLimit": 2048000,
      "rowLimit": 10000
     },
     "inputWidgets": {},
     "nuid": "a74fe6bb-1767-4b45-97e1-99beb74aa1fd",
     "showTitle": false,
     "title": ""
    }
   },
   "outputs": [],
   "source": [
    "# Define el diccionario de mapeo\n",
    "map_dict = {True: 1, False: 0}\n",
    "\n",
    "# Aplica el mapeo a la columna \"isload_t\"\n",
    "datos[\"isload_t\"] = datos[\"isload_t\"].map(map_dict)\n",
    "datos.head()"
   ]
  },
  {
   "cell_type": "code",
   "execution_count": 0,
   "metadata": {
    "application/vnd.databricks.v1+cell": {
     "cellMetadata": {
      "byteLimit": 2048000,
      "rowLimit": 10000
     },
     "inputWidgets": {},
     "nuid": "50a52c94-f347-4256-a4f2-1a0f41d27985",
     "showTitle": false,
     "title": ""
    }
   },
   "outputs": [],
   "source": [
    "datos[\"isload_t\"].value_counts()"
   ]
  },
  {
   "cell_type": "code",
   "execution_count": 0,
   "metadata": {
    "application/vnd.databricks.v1+cell": {
     "cellMetadata": {
      "byteLimit": 2048000,
      "rowLimit": 10000
     },
     "inputWidgets": {},
     "nuid": "de2b2d78-eb93-4219-af83-7622ece70d6c",
     "showTitle": false,
     "title": ""
    }
   },
   "outputs": [],
   "source": [
    "datos.dtypes"
   ]
  },
  {
   "cell_type": "markdown",
   "metadata": {
    "application/vnd.databricks.v1+cell": {
     "cellMetadata": {},
     "inputWidgets": {},
     "nuid": "42defc0b-576d-4ce1-a630-6ee5a26f8bc7",
     "showTitle": false,
     "title": ""
    }
   },
   "source": [
    "### 2.4 <font color=\"orange\">Renombramos los nombres de las variables para un mejor analisis"
   ]
  },
  {
   "cell_type": "code",
   "execution_count": 0,
   "metadata": {
    "application/vnd.databricks.v1+cell": {
     "cellMetadata": {
      "byteLimit": 2048000,
      "rowLimit": 10000
     },
     "inputWidgets": {},
     "nuid": "0f36c562-c8bb-4453-ba10-05d99f703852",
     "showTitle": false,
     "title": ""
    }
   },
   "outputs": [],
   "source": [
    "# Define un diccionario con los nuevos nombres de las columnas solo para algunas columnas\n",
    "nuevos_nombres = {'eq_id' : 'id_equipo', 'Equipment' : 'nombre_equipo'}\n",
    "# Renombra las columnas del DataFrame\n",
    "datos = datos.rename(columns=nuevos_nombres)\n",
    "datos.head()"
   ]
  },
  {
   "cell_type": "code",
   "execution_count": 0,
   "metadata": {
    "application/vnd.databricks.v1+cell": {
     "cellMetadata": {
      "byteLimit": 2048000,
      "rowLimit": 10000
     },
     "inputWidgets": {},
     "nuid": "493bd10b-2d24-4c2b-a6b6-ba32e23e01f5",
     "showTitle": false,
     "title": ""
    }
   },
   "outputs": [],
   "source": [
    "%fs mounts"
   ]
  },
  {
   "cell_type": "code",
   "execution_count": 0,
   "metadata": {
    "application/vnd.databricks.v1+cell": {
     "cellMetadata": {
      "byteLimit": 2048000,
      "rowLimit": 10000
     },
     "inputWidgets": {},
     "nuid": "87be3490-e8e3-464d-8749-b49cdf8f53ce",
     "showTitle": false,
     "title": ""
    }
   },
   "outputs": [],
   "source": [
    "# Listar todas las bases de datos\n",
    "spark.sql(\"SHOW DATABASES\").show()"
   ]
  },
  {
   "cell_type": "code",
   "execution_count": 0,
   "metadata": {
    "application/vnd.databricks.v1+cell": {
     "cellMetadata": {
      "byteLimit": 2048000,
      "rowLimit": 10000
     },
     "inputWidgets": {},
     "nuid": "ddefe9c2-355e-4bc4-b869-097ca2fe46f8",
     "showTitle": false,
     "title": ""
    }
   },
   "outputs": [],
   "source": [
    "# # n.1 Crear la base de datos si no existe en el almacenamiento de processed (en la ruta donde se almacenaran los datos preprocesados)\n",
    "spark.sql(\"CREATE DATABASE IF NOT EXISTS dbproyectocongestion_processed LOCATION '/mnt/datalakemlopsd4m/processed/proyectocongestion_processed/'\")"
   ]
  },
  {
   "cell_type": "code",
   "execution_count": 0,
   "metadata": {
    "application/vnd.databricks.v1+cell": {
     "cellMetadata": {
      "byteLimit": 2048000,
      "rowLimit": 10000
     },
     "inputWidgets": {},
     "nuid": "33b529b5-b9e3-470c-b28d-a8894a3ac63e",
     "showTitle": false,
     "title": ""
    }
   },
   "outputs": [],
   "source": [
    "datos.head()"
   ]
  },
  {
   "cell_type": "code",
   "execution_count": 0,
   "metadata": {
    "application/vnd.databricks.v1+cell": {
     "cellMetadata": {
      "byteLimit": 2048000,
      "rowLimit": 10000
     },
     "inputWidgets": {},
     "nuid": "4aa8994d-180a-4671-8d7d-cb370418ce6a",
     "showTitle": false,
     "title": ""
    }
   },
   "outputs": [],
   "source": [
    "# Renombrar las columnas para eliminar caracteres especiales\n",
    "datos.columns = [col.replace(\" \", \"_\").replace(\"-\", \"_\").replace(\"(\", \"\").replace(\")\", \"\") for col in datos.columns]\n",
    "\n",
    "# Convertir el DataFrame de Pandas a un DataFrame de Spark\n",
    "spark_datos = spark.createDataFrame(datos)\n",
    "\n",
    "# Asegurar que las columnas de fecha y hora mantengan sus tipos de datos\n",
    "from pyspark.sql.functions import col\n",
    "spark_datos = spark_datos.withColumn(\"Event_Date\", col(\"Event_Date\").cast(\"timestamp\"))\n",
    "spark_datos = spark_datos.withColumn(\"instant_date_t\", col(\"instant_date_t\").cast(\"timestamp\"))\n",
    "\n",
    "# Guardar los datos preprocesados en una tabla Delta\n",
    "spark_datos.write.format(\"delta\").mode(\"overwrite\").saveAsTable(\"dbproyectocongestion_processed.datapreprocessed_congestion_tabladelta\")"
   ]
  },
  {
   "cell_type": "code",
   "execution_count": 0,
   "metadata": {
    "application/vnd.databricks.v1+cell": {
     "cellMetadata": {
      "byteLimit": 2048000,
      "rowLimit": 10000
     },
     "inputWidgets": {},
     "nuid": "444c81ca-a3a3-4828-94d9-a33b0ed26094",
     "showTitle": false,
     "title": ""
    }
   },
   "outputs": [],
   "source": [
    "import pandas as pd\n",
    "#1. Leemos los datos de PROCEESED la tabla Delta \n",
    "df_delta = spark.read.format(\"delta\").load(\"/mnt/datalakemlopsd4m/processed/proyectocongestion_processed/datapreprocessed_congestion_tabladelta\")\n",
    "datos = df_delta.toPandas()"
   ]
  },
  {
   "cell_type": "code",
   "execution_count": 0,
   "metadata": {
    "application/vnd.databricks.v1+cell": {
     "cellMetadata": {
      "byteLimit": 2048000,
      "rowLimit": 10000
     },
     "inputWidgets": {},
     "nuid": "bb5f4f45-caa1-4b25-a282-dd8ccded8660",
     "showTitle": false,
     "title": ""
    }
   },
   "outputs": [],
   "source": [
    "datos.head()"
   ]
  },
  {
   "cell_type": "code",
   "execution_count": 0,
   "metadata": {
    "application/vnd.databricks.v1+cell": {
     "cellMetadata": {
      "byteLimit": 2048000,
      "rowLimit": 10000
     },
     "inputWidgets": {},
     "nuid": "c167045a-c8d3-4706-8c15-2412397e1c98",
     "showTitle": false,
     "title": ""
    }
   },
   "outputs": [],
   "source": [
    "datos.dtypes"
   ]
  }
 ],
 "metadata": {
  "application/vnd.databricks.v1+notebook": {
   "dashboards": [],
   "language": "python",
   "notebookMetadata": {
    "mostRecentlyExecutedCommandWithImplicitDF": {
     "commandId": 1381024100620580,
     "dataframes": [
      "_sqldf"
     ]
    },
    "pythonIndentUnit": 4
   },
   "notebookName": "2.preprocessing_data",
   "widgets": {}
  }
 },
 "nbformat": 4,
 "nbformat_minor": 0
}
