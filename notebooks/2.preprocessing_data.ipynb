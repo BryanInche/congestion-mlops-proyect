{
 "cells": [
  {
   "cell_type": "markdown",
   "metadata": {
    "application/vnd.databricks.v1+cell": {
     "cellMetadata": {},
     "inputWidgets": {},
     "nuid": "8c2a29b4-8a6b-49e2-90c3-3e4509e93b77",
     "showTitle": false,
     "title": ""
    }
   },
   "source": [
    "## 1. Cargamos los datos a Preprocesar y limpiar (desde el BlobStorage)"
   ]
  },
  {
   "cell_type": "code",
   "execution_count": 0,
   "metadata": {
    "application/vnd.databricks.v1+cell": {
     "cellMetadata": {
      "byteLimit": 2048000,
      "rowLimit": 10000
     },
     "inputWidgets": {},
     "nuid": "269d6fae-2fe9-41e5-9301-041979bfcc42",
     "showTitle": false,
     "title": ""
    }
   },
   "outputs": [],
   "source": [
    "#Librerias necesarias para usar el Azure DataLake y DataBrinks\n",
    "import pandas as pd\n",
    "from azure.storage.blob import BlobServiceClient, BlobClient, ContainerClient\n",
    "import io\n",
    "\n",
    "# 2. Obtener conection Azure DataLake,interfaz de Azure(Claves de acceso: Key1) (Debes comentar esta variable Si NO deja hacer COMMIT DEL \n",
    "# CODIGO EN GIT,GITHUB)\n",
    "#connection_string = 'DefaultEndpointsProtocol=https;AccountName=datalakemlopsd4m;AccountKey=iWT8t74/#XlqcqoR03keDVtFZPzr0PB9zDffMPaLWMUBIAjUww8uYAVkc9xRkcBtvTmUHKBvd1sB3+ASt6mGgcQ==;EndpointSuffix=core.windows.net'\n",
    "\n",
    "# 3. Conectar al Blob Storage de Azure\n",
    "blob_service_client = BlobServiceClient.from_connection_string(connection_string)\n",
    "\n",
    "# 4. Identificamos el nombre del contenedor(container_name) y nombre del archivo(definir blob_name) en el Blob Storage\n",
    "container_name = \"raw/proyectocongestion_raw/fuentedatos_consolidado/\"\n",
    "blob_name = \"datos_raw_consolidado.csv\"\n",
    "\n",
    "# 5. Obtener el blob_client\n",
    "blob_client = blob_service_client.get_blob_client(container=container_name, blob=blob_name)\n",
    "\n",
    "# 6. Leer el contenido del blob como texto\n",
    "#blob_data = blob_client.download_blob().content_as_text()\n",
    "blob_data = blob_client.download_blob().readall().decode('utf-8')\n",
    "\n",
    "# Especificar tipos de datos al leer el archivo CSV\n",
    "column_types = {\n",
    "    'instant_date_t': 'datetime64[ns]',\n",
    "    'Event Date' : 'datetime64[ns]'\n",
    "}\n",
    "\n",
    "# Leer el archivo CSV en un DataFrame de Pandas\n",
    "datos = pd.read_csv(io.StringIO(blob_data), parse_dates=['instant_date_t', 'Event Date'])\n",
    "\n",
    "# 7. Leer el archivo CSV en un DataFrame de Pandas desde el texto\n",
    "#datos = pd.read_csv(io.StringIO(blob_data))\n",
    "datos.head()"
   ]
  },
  {
   "cell_type": "code",
   "execution_count": 0,
   "metadata": {
    "application/vnd.databricks.v1+cell": {
     "cellMetadata": {
      "byteLimit": 2048000,
      "rowLimit": 10000
     },
     "inputWidgets": {},
     "nuid": "09e8189b-dafd-47e5-9410-ca1072531696",
     "showTitle": false,
     "title": ""
    }
   },
   "outputs": [],
   "source": [
    "datos.dtypes"
   ]
  },
  {
   "cell_type": "code",
   "execution_count": 0,
   "metadata": {
    "application/vnd.databricks.v1+cell": {
     "cellMetadata": {
      "byteLimit": 2048000,
      "rowLimit": 10000
     },
     "inputWidgets": {},
     "nuid": "8f2e6657-4f47-4de8-94e3-72430fb33132",
     "showTitle": false,
     "title": ""
    }
   },
   "outputs": [],
   "source": [
    "datos[[\"instant_date_t\", \"Event Date\"]].head(15)"
   ]
  },
  {
   "cell_type": "code",
   "execution_count": 0,
   "metadata": {
    "application/vnd.databricks.v1+cell": {
     "cellMetadata": {
      "byteLimit": 2048000,
      "rowLimit": 10000
     },
     "inputWidgets": {},
     "nuid": "12bed355-748f-4cf0-871c-57650385a886",
     "showTitle": false,
     "title": ""
    }
   },
   "outputs": [],
   "source": [
    "datos[\"eq_id\"].unique()"
   ]
  },
  {
   "cell_type": "code",
   "execution_count": 0,
   "metadata": {
    "application/vnd.databricks.v1+cell": {
     "cellMetadata": {
      "byteLimit": 2048000,
      "rowLimit": 10000
     },
     "inputWidgets": {},
     "nuid": "218278ea-a0ba-4049-b547-d848ffc36d9b",
     "showTitle": false,
     "title": ""
    }
   },
   "outputs": [],
   "source": [
    "#Librerias que se usaran\n",
    "import pandas as pd  # Libreria para administrar tablas, y realizar trabajos con distintas formas de tablas o dataframes\n",
    "import numpy as np   # Libreria para poder hacer operaciones matematicas y matriciales\n",
    "import matplotlib.pyplot as plt # Libreria para realizar graficos \n",
    "\n",
    "#Configuramos pandas para que podamos vizualizar todas las columnas y filas la estadistica descriptiva de todas las variables\n",
    "pd.set_option('display.max_columns', None)\n",
    "pd.set_option('display.expand_frame_repr', False)\n",
    "pd.set_option('display.max_colwidth', None)\n",
    "pd.set_option('display.max_rows', None)\n",
    "pd.set_option('display.width', None)\n",
    "#Configuramos pandas para que lanze valores con una precision de hasta 6 decimales\n",
    "pd.set_option('display.float_format', '{:.6f}'.format)"
   ]
  },
  {
   "cell_type": "code",
   "execution_count": 0,
   "metadata": {
    "application/vnd.databricks.v1+cell": {
     "cellMetadata": {
      "byteLimit": 2048000,
      "rowLimit": 10000
     },
     "inputWidgets": {},
     "nuid": "86ceaf28-52a0-4c0d-bb13-823e07a13327",
     "showTitle": false,
     "title": ""
    }
   },
   "outputs": [],
   "source": [
    "datos.head()"
   ]
  },
  {
   "cell_type": "code",
   "execution_count": 0,
   "metadata": {
    "application/vnd.databricks.v1+cell": {
     "cellMetadata": {
      "byteLimit": 2048000,
      "rowLimit": 10000
     },
     "inputWidgets": {},
     "nuid": "abbced5c-d130-418e-abb5-2bf0e623ea86",
     "showTitle": false,
     "title": ""
    }
   },
   "outputs": [],
   "source": [
    "import plotly.express as px\n",
    "\n",
    "# Obtiene las dimensiones de tu conjunto de datos\n",
    "num_filas, num_columnas = datos.shape\n",
    "\n",
    "# Crea un DataFrame con los datos de las dimensiones\n",
    "df_dimension = pd.DataFrame({'Dimensión': ['Filas', 'Columnas'], 'Valor': [num_filas, num_columnas]})\n",
    "\n",
    "# Crea un gráfico de pastel interactivo con etiquetas\n",
    "fig = px.pie(df_dimension, names='Dimensión', values='Valor', title='Dimensiones del Conjunto de Datos')\n",
    "\n",
    "# Agrega etiquetas y porcentajes\n",
    "fig.update_traces(textinfo='label+percent')\n",
    "\n",
    "# Muestra el gráfico interactivo\n",
    "fig.show()"
   ]
  },
  {
   "cell_type": "code",
   "execution_count": 0,
   "metadata": {
    "application/vnd.databricks.v1+cell": {
     "cellMetadata": {
      "byteLimit": 2048000,
      "rowLimit": 10000
     },
     "inputWidgets": {},
     "nuid": "a96d2858-1984-4f43-9e1b-70a1857a17c5",
     "showTitle": false,
     "title": ""
    }
   },
   "outputs": [],
   "source": [
    "datos.dtypes"
   ]
  },
  {
   "cell_type": "markdown",
   "metadata": {
    "application/vnd.databricks.v1+cell": {
     "cellMetadata": {},
     "inputWidgets": {},
     "nuid": "56cf6410-99f3-4d8a-a780-ca277afd09ac",
     "showTitle": false,
     "title": ""
    }
   },
   "source": [
    "#### Obtener equipos de camión únicos y sus nombres único"
   ]
  },
  {
   "cell_type": "code",
   "execution_count": 0,
   "metadata": {
    "application/vnd.databricks.v1+cell": {
     "cellMetadata": {
      "byteLimit": 2048000,
      "rowLimit": 10000
     },
     "inputWidgets": {},
     "nuid": "7eea9501-962c-4172-b8ee-08b3d92c4d82",
     "showTitle": false,
     "title": ""
    }
   },
   "outputs": [],
   "source": [
    "# Obtener equipos de camión únicos y sus nombres únicos\n",
    "equipos_camiones = datos.loc[datos[\"eq_id\"].notnull(), [\"eq_id\", \"nombre_x\"]] \\\n",
    "    .drop_duplicates(subset=\"eq_id\")\n",
    "print(equipos_camiones)"
   ]
  },
  {
   "cell_type": "markdown",
   "metadata": {
    "application/vnd.databricks.v1+cell": {
     "cellMetadata": {},
     "inputWidgets": {},
     "nuid": "d4515336-a9fd-4581-bd4d-018a20c4fa0b",
     "showTitle": false,
     "title": ""
    }
   },
   "source": [
    "#### Obtener por equipos, la velocidad en promedio"
   ]
  },
  {
   "cell_type": "code",
   "execution_count": 0,
   "metadata": {
    "application/vnd.databricks.v1+cell": {
     "cellMetadata": {
      "byteLimit": 2048000,
      "rowLimit": 10000
     },
     "inputWidgets": {},
     "nuid": "f91893e2-4eb9-4e45-a30b-c02614ccca89",
     "showTitle": false,
     "title": ""
    }
   },
   "outputs": [],
   "source": [
    "datos.groupby('eq_id')['speed_t'].mean()"
   ]
  },
  {
   "cell_type": "markdown",
   "metadata": {
    "application/vnd.databricks.v1+cell": {
     "cellMetadata": {},
     "inputWidgets": {},
     "nuid": "0addd7e9-c3a3-428a-a8af-0aafad37c78a",
     "showTitle": false,
     "title": ""
    }
   },
   "source": [
    "#### Obtener por equipos, y por horas, el promedio de la velocidad"
   ]
  },
  {
   "cell_type": "code",
   "execution_count": 0,
   "metadata": {
    "application/vnd.databricks.v1+cell": {
     "cellMetadata": {
      "byteLimit": 2048000,
      "rowLimit": 10000
     },
     "inputWidgets": {},
     "nuid": "62a2c096-7dc2-4ced-9278-a1e442e6540b",
     "showTitle": false,
     "title": ""
    }
   },
   "outputs": [],
   "source": [
    "# Extraer la hora y crear una nueva columna para almacenarla\n",
    "datos['hora'] = datos['instant_date_t'].dt.hour\n",
    "\n",
    "# Agrupar por id_equipo y hora, calcular el promedio de velocidad\n",
    "datos.groupby(['eq_id', 'hora'])['speed_t'].mean()"
   ]
  },
  {
   "cell_type": "code",
   "execution_count": 0,
   "metadata": {
    "application/vnd.databricks.v1+cell": {
     "cellMetadata": {
      "byteLimit": 2048000,
      "rowLimit": 10000
     },
     "inputWidgets": {},
     "nuid": "fbf674fb-3b8f-4a38-b5ee-27352cd6b4dd",
     "showTitle": false,
     "title": ""
    }
   },
   "outputs": [],
   "source": [
    "import matplotlib.pyplot as plt\n",
    "\n",
    "# Agrupar por id_equipo y hora, calcular el promedio de velocidad\n",
    "promedios_velocidad = datos.groupby(['eq_id', 'hora'])['speed_t'].mean().reset_index()\n",
    "\n",
    "# Crear el gráfico de líneas\n",
    "plt.figure(figsize=(10, 6))\n",
    "for id_equipo, group in promedios_velocidad.groupby('eq_id'):\n",
    "    plt.plot(group['hora'], group['speed_t'], label=f'Equipo {id_equipo}')\n",
    "\n",
    "# Añadir etiquetas y título\n",
    "plt.xlabel('Hora')\n",
    "plt.ylabel('Promedio de Velocidad')\n",
    "plt.title('Promedio de Velocidad por Hora y Equipo')\n",
    "plt.legend()\n",
    "plt.grid(True)\n",
    "\n",
    "# Mostrar el gráfico\n",
    "plt.show()\n"
   ]
  }
 ],
 "metadata": {
  "application/vnd.databricks.v1+notebook": {
   "dashboards": [],
   "language": "python",
   "notebookMetadata": {
    "pythonIndentUnit": 4
   },
   "notebookName": "2.preprocessing_data",
   "widgets": {}
  }
 },
 "nbformat": 4,
 "nbformat_minor": 0
}
